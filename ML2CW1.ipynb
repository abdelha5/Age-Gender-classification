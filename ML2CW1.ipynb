{
  "cells": [
    {
      "cell_type": "code",
      "execution_count": null,
      "metadata": {
        "colab": {
          "base_uri": "https://localhost:8080/",
          "height": 235
        },
        "id": "tSn0oQQ_8dk5",
        "outputId": "c015cbf8-1f7b-49cb-ea23-cd97b991847d"
      },
      "outputs": [
        {
          "ename": "NameError",
          "evalue": "ignored",
          "output_type": "error",
          "traceback": [
            "\u001b[0;31m---------------------------------------------------------------------------\u001b[0m",
            "\u001b[0;31mNameError\u001b[0m                                 Traceback (most recent call last)",
            "\u001b[0;32m<ipython-input-3-95e608986549>\u001b[0m in \u001b[0;36m<module>\u001b[0;34m()\u001b[0m\n\u001b[1;32m     17\u001b[0m \u001b[0;34m\u001b[0m\u001b[0m\n\u001b[1;32m     18\u001b[0m \u001b[0;34m\u001b[0m\u001b[0m\n\u001b[0;32m---> 19\u001b[0;31m \u001b[0;32mfor\u001b[0m \u001b[0msample\u001b[0m \u001b[0;32min\u001b[0m \u001b[0mtraining_img_dataset\u001b[0m\u001b[0;34m.\u001b[0m\u001b[0mtake\u001b[0m\u001b[0;34m(\u001b[0m\u001b[0;36m1\u001b[0m\u001b[0;34m)\u001b[0m\u001b[0;34m:\u001b[0m\u001b[0;34m\u001b[0m\u001b[0;34m\u001b[0m\u001b[0m\n\u001b[0m\u001b[1;32m     20\u001b[0m   \u001b[0;31m# sample = np.array(sample)\u001b[0m\u001b[0;34m\u001b[0m\u001b[0;34m\u001b[0m\u001b[0;34m\u001b[0m\u001b[0m\n\u001b[1;32m     21\u001b[0m   \u001b[0msample\u001b[0m \u001b[0;34m=\u001b[0m \u001b[0msample\u001b[0m\u001b[0;34m[\u001b[0m\u001b[0;36m0\u001b[0m\u001b[0;34m]\u001b[0m \u001b[0;31m# Take the first item in the sample. This is because sample is of size (BATCH_SIZE, WIDTH, HEIGHT, RGB)\u001b[0m\u001b[0;34m\u001b[0m\u001b[0;34m\u001b[0m\u001b[0m\n",
            "\u001b[0;31mNameError\u001b[0m: name 'training_img_dataset' is not defined"
          ]
        }
      ],
      "source": [
        "# # Take x samples, display to output. Output is a 2-column subplot with the standard input and normalised variant of a random image sample. \n",
        "\n",
        "# import plotly.express as px\n",
        "# import plotly.graph_objects as go\n",
        "# import numpy as np\n",
        "# from PIL import Image\n",
        "# import plotly.subplots as subplots\n",
        "\n",
        "# def norm_image(arr):\n",
        "#     img_norm = np.array(arr)\n",
        "#     img_norm = (img_norm - np.min(img_norm))/np.ptp(img_norm) # Normalisation of z-values (RGB values; 3rd axis) to between 0 and 1\n",
        "#     return img_norm\n",
        "\n",
        "\n",
        "# fig = subplots.make_subplots(rows=1, cols=2, subplot_titles=[\"Unnormalised (0 to 255)\", \"Normalised (0 to 1)\"], horizontal_spacing=0.1)\n",
        "# fig.update_layout(title_text=\"Side-by-Side sample image comparison, unnormalised and normalised\")\n",
        "\n",
        "\n",
        "# for sample in training_img_dataset.take(1):\n",
        "#   # sample = np.array(sample)\n",
        "#   sample = sample[0] # Take the first item in the sample. This is because sample is of size (BATCH_SIZE, WIDTH, HEIGHT, RGB)\n",
        "#   fig.append_trace(go.Image(z=sample), 1, 1)\n",
        "#   fig.append_trace(go.Image(z=norm_image(sample), zmin=[0, 0, 0, 0], zmax=[1, 1, 1, 1]), 1, 2)\n",
        "#   break\n",
        "\n",
        "\n",
        "# fig.show()"
      ]
    },
    {
      "cell_type": "code",
      "execution_count": null,
      "metadata": {
        "id": "67R8nyN4-9jG"
      },
      "outputs": [],
      "source": [
        "# # REMOVE: printing out all of the image files TF has loaded. As shown by the counter, k, this includes *all* of the input samples. \n",
        "\n",
        "# all_samples = training_img_dataset.list_files(file_pattern='./data/**/**.jpg', shuffle=False)\n",
        "# k = 0\n",
        "# for x in all_samples:\n",
        "#   print(x)\n",
        "#   k += 1\n",
        "\n",
        "# print(f'Total samples: {k}')"
      ]
    },
    {
      "cell_type": "code",
      "execution_count": null,
      "metadata": {
        "id": "dvtB0TwJFMc4"
      },
      "outputs": [],
      "source": [
        "# import pandas as pd\n",
        "# import math\n",
        "\n",
        "# labels = pd.read_csv(f'{DATA_DIRECTORY}/metadata_lookup.csv')\n",
        "\n",
        "# # print(labels.head())\n",
        "\n",
        "\n",
        "# all_samples = labels.sample(frac=1, random_state=42) # TODO: add a constant for the random states in pandas, numpy and keras/tensorflow shuffle variables\n",
        "\n",
        "# train_split, test_split, val_split = 0.7, 0.2, 0.1 # 4000, 1000, 500\n",
        "\n",
        "# try:\n",
        "#   assert math.fsum([train_split, test_split, val_split]) == 1\n",
        "# except AssertionError:\n",
        "#   print(\"The train, test and validation split ratios must sum to exactly 1.0!\")\n",
        "#   print(f\"Actual sum was {sum([train_split, test_split, val_split])}; train, test, val = {train_split}, {test_split}, {val_split}\")\n",
        "#   raise\n",
        "\n",
        "# slices = [int(train_split * len(all_samples)), int((train_split + test_split) * len(all_samples))]\n",
        "\n",
        "# train_ds = all_samples.iloc[:slices[0]]\n",
        "# test_ds = all_samples.iloc[slices[0]:slices[1]]\n",
        "# val_ds = all_samples.iloc[slices[1]:]\n",
        "\n",
        "# # print(train_ds)\n",
        "# # print(test_ds)\n",
        "# # print(val_ds)\n",
        "\n",
        "# print(f'Split dataset into sample sizes of: train: {len(train_ds)}, test: {len(test_ds)}, val: {len(val_ds)}')"
      ]
    },
    {
      "cell_type": "code",
      "source": [
        "!pip install wandb\n",
        "!wandb login"
      ],
      "metadata": {
        "colab": {
          "base_uri": "https://localhost:8080/"
        },
        "id": "FnsRjQHQoyUf",
        "outputId": "d4ea95c2-f60c-4ba9-f7fa-7bdf5bff5116"
      },
      "execution_count": 11,
      "outputs": [
        {
          "output_type": "stream",
          "name": "stdout",
          "text": [
            "Collecting wandb\n",
            "  Downloading wandb-0.12.10-py2.py3-none-any.whl (1.7 MB)\n",
            "\u001b[?25l\r\u001b[K     |▏                               | 10 kB 26.6 MB/s eta 0:00:01\r\u001b[K     |▍                               | 20 kB 8.4 MB/s eta 0:00:01\r\u001b[K     |▋                               | 30 kB 7.4 MB/s eta 0:00:01\r\u001b[K     |▊                               | 40 kB 3.6 MB/s eta 0:00:01\r\u001b[K     |█                               | 51 kB 3.6 MB/s eta 0:00:01\r\u001b[K     |█▏                              | 61 kB 4.3 MB/s eta 0:00:01\r\u001b[K     |█▍                              | 71 kB 4.5 MB/s eta 0:00:01\r\u001b[K     |█▌                              | 81 kB 4.7 MB/s eta 0:00:01\r\u001b[K     |█▊                              | 92 kB 5.3 MB/s eta 0:00:01\r\u001b[K     |██                              | 102 kB 4.2 MB/s eta 0:00:01\r\u001b[K     |██                              | 112 kB 4.2 MB/s eta 0:00:01\r\u001b[K     |██▎                             | 122 kB 4.2 MB/s eta 0:00:01\r\u001b[K     |██▌                             | 133 kB 4.2 MB/s eta 0:00:01\r\u001b[K     |██▊                             | 143 kB 4.2 MB/s eta 0:00:01\r\u001b[K     |██▉                             | 153 kB 4.2 MB/s eta 0:00:01\r\u001b[K     |███                             | 163 kB 4.2 MB/s eta 0:00:01\r\u001b[K     |███▎                            | 174 kB 4.2 MB/s eta 0:00:01\r\u001b[K     |███▍                            | 184 kB 4.2 MB/s eta 0:00:01\r\u001b[K     |███▋                            | 194 kB 4.2 MB/s eta 0:00:01\r\u001b[K     |███▉                            | 204 kB 4.2 MB/s eta 0:00:01\r\u001b[K     |████                            | 215 kB 4.2 MB/s eta 0:00:01\r\u001b[K     |████▏                           | 225 kB 4.2 MB/s eta 0:00:01\r\u001b[K     |████▍                           | 235 kB 4.2 MB/s eta 0:00:01\r\u001b[K     |████▋                           | 245 kB 4.2 MB/s eta 0:00:01\r\u001b[K     |████▊                           | 256 kB 4.2 MB/s eta 0:00:01\r\u001b[K     |█████                           | 266 kB 4.2 MB/s eta 0:00:01\r\u001b[K     |█████▏                          | 276 kB 4.2 MB/s eta 0:00:01\r\u001b[K     |█████▍                          | 286 kB 4.2 MB/s eta 0:00:01\r\u001b[K     |█████▌                          | 296 kB 4.2 MB/s eta 0:00:01\r\u001b[K     |█████▊                          | 307 kB 4.2 MB/s eta 0:00:01\r\u001b[K     |██████                          | 317 kB 4.2 MB/s eta 0:00:01\r\u001b[K     |██████                          | 327 kB 4.2 MB/s eta 0:00:01\r\u001b[K     |██████▎                         | 337 kB 4.2 MB/s eta 0:00:01\r\u001b[K     |██████▌                         | 348 kB 4.2 MB/s eta 0:00:01\r\u001b[K     |██████▊                         | 358 kB 4.2 MB/s eta 0:00:01\r\u001b[K     |██████▉                         | 368 kB 4.2 MB/s eta 0:00:01\r\u001b[K     |███████                         | 378 kB 4.2 MB/s eta 0:00:01\r\u001b[K     |███████▎                        | 389 kB 4.2 MB/s eta 0:00:01\r\u001b[K     |███████▍                        | 399 kB 4.2 MB/s eta 0:00:01\r\u001b[K     |███████▋                        | 409 kB 4.2 MB/s eta 0:00:01\r\u001b[K     |███████▉                        | 419 kB 4.2 MB/s eta 0:00:01\r\u001b[K     |████████                        | 430 kB 4.2 MB/s eta 0:00:01\r\u001b[K     |████████▏                       | 440 kB 4.2 MB/s eta 0:00:01\r\u001b[K     |████████▍                       | 450 kB 4.2 MB/s eta 0:00:01\r\u001b[K     |████████▋                       | 460 kB 4.2 MB/s eta 0:00:01\r\u001b[K     |████████▊                       | 471 kB 4.2 MB/s eta 0:00:01\r\u001b[K     |█████████                       | 481 kB 4.2 MB/s eta 0:00:01\r\u001b[K     |█████████▏                      | 491 kB 4.2 MB/s eta 0:00:01\r\u001b[K     |█████████▍                      | 501 kB 4.2 MB/s eta 0:00:01\r\u001b[K     |█████████▌                      | 512 kB 4.2 MB/s eta 0:00:01\r\u001b[K     |█████████▊                      | 522 kB 4.2 MB/s eta 0:00:01\r\u001b[K     |██████████                      | 532 kB 4.2 MB/s eta 0:00:01\r\u001b[K     |██████████                      | 542 kB 4.2 MB/s eta 0:00:01\r\u001b[K     |██████████▎                     | 552 kB 4.2 MB/s eta 0:00:01\r\u001b[K     |██████████▌                     | 563 kB 4.2 MB/s eta 0:00:01\r\u001b[K     |██████████▊                     | 573 kB 4.2 MB/s eta 0:00:01\r\u001b[K     |██████████▉                     | 583 kB 4.2 MB/s eta 0:00:01\r\u001b[K     |███████████                     | 593 kB 4.2 MB/s eta 0:00:01\r\u001b[K     |███████████▎                    | 604 kB 4.2 MB/s eta 0:00:01\r\u001b[K     |███████████▍                    | 614 kB 4.2 MB/s eta 0:00:01\r\u001b[K     |███████████▋                    | 624 kB 4.2 MB/s eta 0:00:01\r\u001b[K     |███████████▉                    | 634 kB 4.2 MB/s eta 0:00:01\r\u001b[K     |████████████                    | 645 kB 4.2 MB/s eta 0:00:01\r\u001b[K     |████████████▏                   | 655 kB 4.2 MB/s eta 0:00:01\r\u001b[K     |████████████▍                   | 665 kB 4.2 MB/s eta 0:00:01\r\u001b[K     |████████████▋                   | 675 kB 4.2 MB/s eta 0:00:01\r\u001b[K     |████████████▊                   | 686 kB 4.2 MB/s eta 0:00:01\r\u001b[K     |█████████████                   | 696 kB 4.2 MB/s eta 0:00:01\r\u001b[K     |█████████████▏                  | 706 kB 4.2 MB/s eta 0:00:01\r\u001b[K     |█████████████▍                  | 716 kB 4.2 MB/s eta 0:00:01\r\u001b[K     |█████████████▌                  | 727 kB 4.2 MB/s eta 0:00:01\r\u001b[K     |█████████████▊                  | 737 kB 4.2 MB/s eta 0:00:01\r\u001b[K     |██████████████                  | 747 kB 4.2 MB/s eta 0:00:01\r\u001b[K     |██████████████                  | 757 kB 4.2 MB/s eta 0:00:01\r\u001b[K     |██████████████▎                 | 768 kB 4.2 MB/s eta 0:00:01\r\u001b[K     |██████████████▌                 | 778 kB 4.2 MB/s eta 0:00:01\r\u001b[K     |██████████████▊                 | 788 kB 4.2 MB/s eta 0:00:01\r\u001b[K     |██████████████▉                 | 798 kB 4.2 MB/s eta 0:00:01\r\u001b[K     |███████████████                 | 808 kB 4.2 MB/s eta 0:00:01\r\u001b[K     |███████████████▎                | 819 kB 4.2 MB/s eta 0:00:01\r\u001b[K     |███████████████▍                | 829 kB 4.2 MB/s eta 0:00:01\r\u001b[K     |███████████████▋                | 839 kB 4.2 MB/s eta 0:00:01\r\u001b[K     |███████████████▉                | 849 kB 4.2 MB/s eta 0:00:01\r\u001b[K     |████████████████                | 860 kB 4.2 MB/s eta 0:00:01\r\u001b[K     |████████████████▏               | 870 kB 4.2 MB/s eta 0:00:01\r\u001b[K     |████████████████▍               | 880 kB 4.2 MB/s eta 0:00:01\r\u001b[K     |████████████████▋               | 890 kB 4.2 MB/s eta 0:00:01\r\u001b[K     |████████████████▊               | 901 kB 4.2 MB/s eta 0:00:01\r\u001b[K     |█████████████████               | 911 kB 4.2 MB/s eta 0:00:01\r\u001b[K     |█████████████████▏              | 921 kB 4.2 MB/s eta 0:00:01\r\u001b[K     |█████████████████▍              | 931 kB 4.2 MB/s eta 0:00:01\r\u001b[K     |█████████████████▌              | 942 kB 4.2 MB/s eta 0:00:01\r\u001b[K     |█████████████████▊              | 952 kB 4.2 MB/s eta 0:00:01\r\u001b[K     |██████████████████              | 962 kB 4.2 MB/s eta 0:00:01\r\u001b[K     |██████████████████              | 972 kB 4.2 MB/s eta 0:00:01\r\u001b[K     |██████████████████▎             | 983 kB 4.2 MB/s eta 0:00:01\r\u001b[K     |██████████████████▌             | 993 kB 4.2 MB/s eta 0:00:01\r\u001b[K     |██████████████████▊             | 1.0 MB 4.2 MB/s eta 0:00:01\r\u001b[K     |██████████████████▉             | 1.0 MB 4.2 MB/s eta 0:00:01\r\u001b[K     |███████████████████             | 1.0 MB 4.2 MB/s eta 0:00:01\r\u001b[K     |███████████████████▎            | 1.0 MB 4.2 MB/s eta 0:00:01\r\u001b[K     |███████████████████▍            | 1.0 MB 4.2 MB/s eta 0:00:01\r\u001b[K     |███████████████████▋            | 1.1 MB 4.2 MB/s eta 0:00:01\r\u001b[K     |███████████████████▉            | 1.1 MB 4.2 MB/s eta 0:00:01\r\u001b[K     |████████████████████            | 1.1 MB 4.2 MB/s eta 0:00:01\r\u001b[K     |████████████████████▏           | 1.1 MB 4.2 MB/s eta 0:00:01\r\u001b[K     |████████████████████▍           | 1.1 MB 4.2 MB/s eta 0:00:01\r\u001b[K     |████████████████████▋           | 1.1 MB 4.2 MB/s eta 0:00:01\r\u001b[K     |████████████████████▊           | 1.1 MB 4.2 MB/s eta 0:00:01\r\u001b[K     |█████████████████████           | 1.1 MB 4.2 MB/s eta 0:00:01\r\u001b[K     |█████████████████████▏          | 1.1 MB 4.2 MB/s eta 0:00:01\r\u001b[K     |█████████████████████▍          | 1.1 MB 4.2 MB/s eta 0:00:01\r\u001b[K     |█████████████████████▌          | 1.2 MB 4.2 MB/s eta 0:00:01\r\u001b[K     |█████████████████████▊          | 1.2 MB 4.2 MB/s eta 0:00:01\r\u001b[K     |██████████████████████          | 1.2 MB 4.2 MB/s eta 0:00:01\r\u001b[K     |██████████████████████          | 1.2 MB 4.2 MB/s eta 0:00:01\r\u001b[K     |██████████████████████▎         | 1.2 MB 4.2 MB/s eta 0:00:01\r\u001b[K     |██████████████████████▌         | 1.2 MB 4.2 MB/s eta 0:00:01\r\u001b[K     |██████████████████████▊         | 1.2 MB 4.2 MB/s eta 0:00:01\r\u001b[K     |██████████████████████▉         | 1.2 MB 4.2 MB/s eta 0:00:01\r\u001b[K     |███████████████████████         | 1.2 MB 4.2 MB/s eta 0:00:01\r\u001b[K     |███████████████████████▎        | 1.2 MB 4.2 MB/s eta 0:00:01\r\u001b[K     |███████████████████████▍        | 1.3 MB 4.2 MB/s eta 0:00:01\r\u001b[K     |███████████████████████▋        | 1.3 MB 4.2 MB/s eta 0:00:01\r\u001b[K     |███████████████████████▉        | 1.3 MB 4.2 MB/s eta 0:00:01\r\u001b[K     |████████████████████████        | 1.3 MB 4.2 MB/s eta 0:00:01\r\u001b[K     |████████████████████████▏       | 1.3 MB 4.2 MB/s eta 0:00:01\r\u001b[K     |████████████████████████▍       | 1.3 MB 4.2 MB/s eta 0:00:01\r\u001b[K     |████████████████████████▋       | 1.3 MB 4.2 MB/s eta 0:00:01\r\u001b[K     |████████████████████████▊       | 1.3 MB 4.2 MB/s eta 0:00:01\r\u001b[K     |█████████████████████████       | 1.3 MB 4.2 MB/s eta 0:00:01\r\u001b[K     |█████████████████████████▏      | 1.4 MB 4.2 MB/s eta 0:00:01\r\u001b[K     |█████████████████████████▍      | 1.4 MB 4.2 MB/s eta 0:00:01\r\u001b[K     |█████████████████████████▌      | 1.4 MB 4.2 MB/s eta 0:00:01\r\u001b[K     |█████████████████████████▊      | 1.4 MB 4.2 MB/s eta 0:00:01\r\u001b[K     |██████████████████████████      | 1.4 MB 4.2 MB/s eta 0:00:01\r\u001b[K     |██████████████████████████▏     | 1.4 MB 4.2 MB/s eta 0:00:01\r\u001b[K     |██████████████████████████▎     | 1.4 MB 4.2 MB/s eta 0:00:01\r\u001b[K     |██████████████████████████▌     | 1.4 MB 4.2 MB/s eta 0:00:01\r\u001b[K     |██████████████████████████▊     | 1.4 MB 4.2 MB/s eta 0:00:01\r\u001b[K     |██████████████████████████▉     | 1.4 MB 4.2 MB/s eta 0:00:01\r\u001b[K     |███████████████████████████     | 1.5 MB 4.2 MB/s eta 0:00:01\r\u001b[K     |███████████████████████████▎    | 1.5 MB 4.2 MB/s eta 0:00:01\r\u001b[K     |███████████████████████████▌    | 1.5 MB 4.2 MB/s eta 0:00:01\r\u001b[K     |███████████████████████████▋    | 1.5 MB 4.2 MB/s eta 0:00:01\r\u001b[K     |███████████████████████████▉    | 1.5 MB 4.2 MB/s eta 0:00:01\r\u001b[K     |████████████████████████████    | 1.5 MB 4.2 MB/s eta 0:00:01\r\u001b[K     |████████████████████████████▏   | 1.5 MB 4.2 MB/s eta 0:00:01\r\u001b[K     |████████████████████████████▍   | 1.5 MB 4.2 MB/s eta 0:00:01\r\u001b[K     |████████████████████████████▋   | 1.5 MB 4.2 MB/s eta 0:00:01\r\u001b[K     |████████████████████████████▉   | 1.5 MB 4.2 MB/s eta 0:00:01\r\u001b[K     |█████████████████████████████   | 1.6 MB 4.2 MB/s eta 0:00:01\r\u001b[K     |█████████████████████████████▏  | 1.6 MB 4.2 MB/s eta 0:00:01\r\u001b[K     |█████████████████████████████▍  | 1.6 MB 4.2 MB/s eta 0:00:01\r\u001b[K     |█████████████████████████████▌  | 1.6 MB 4.2 MB/s eta 0:00:01\r\u001b[K     |█████████████████████████████▊  | 1.6 MB 4.2 MB/s eta 0:00:01\r\u001b[K     |██████████████████████████████  | 1.6 MB 4.2 MB/s eta 0:00:01\r\u001b[K     |██████████████████████████████▏ | 1.6 MB 4.2 MB/s eta 0:00:01\r\u001b[K     |██████████████████████████████▎ | 1.6 MB 4.2 MB/s eta 0:00:01\r\u001b[K     |██████████████████████████████▌ | 1.6 MB 4.2 MB/s eta 0:00:01\r\u001b[K     |██████████████████████████████▊ | 1.6 MB 4.2 MB/s eta 0:00:01\r\u001b[K     |██████████████████████████████▉ | 1.7 MB 4.2 MB/s eta 0:00:01\r\u001b[K     |███████████████████████████████ | 1.7 MB 4.2 MB/s eta 0:00:01\r\u001b[K     |███████████████████████████████▎| 1.7 MB 4.2 MB/s eta 0:00:01\r\u001b[K     |███████████████████████████████▌| 1.7 MB 4.2 MB/s eta 0:00:01\r\u001b[K     |███████████████████████████████▋| 1.7 MB 4.2 MB/s eta 0:00:01\r\u001b[K     |███████████████████████████████▉| 1.7 MB 4.2 MB/s eta 0:00:01\r\u001b[K     |████████████████████████████████| 1.7 MB 4.2 MB/s \n",
            "\u001b[?25hCollecting shortuuid>=0.5.0\n",
            "  Downloading shortuuid-1.0.8-py3-none-any.whl (9.5 kB)\n",
            "Collecting sentry-sdk>=1.0.0\n",
            "  Downloading sentry_sdk-1.5.6-py2.py3-none-any.whl (144 kB)\n",
            "\u001b[K     |████████████████████████████████| 144 kB 46.3 MB/s \n",
            "\u001b[?25hRequirement already satisfied: protobuf>=3.12.0 in /usr/local/lib/python3.7/dist-packages (from wandb) (3.17.3)\n",
            "Requirement already satisfied: requests<3,>=2.0.0 in /usr/local/lib/python3.7/dist-packages (from wandb) (2.23.0)\n",
            "Requirement already satisfied: psutil>=5.0.0 in /usr/local/lib/python3.7/dist-packages (from wandb) (5.4.8)\n",
            "Requirement already satisfied: Click!=8.0.0,>=7.0 in /usr/local/lib/python3.7/dist-packages (from wandb) (7.1.2)\n",
            "Requirement already satisfied: six>=1.13.0 in /usr/local/lib/python3.7/dist-packages (from wandb) (1.15.0)\n",
            "Collecting pathtools\n",
            "  Downloading pathtools-0.1.2.tar.gz (11 kB)\n",
            "Requirement already satisfied: promise<3,>=2.0 in /usr/local/lib/python3.7/dist-packages (from wandb) (2.3)\n",
            "Requirement already satisfied: python-dateutil>=2.6.1 in /usr/local/lib/python3.7/dist-packages (from wandb) (2.8.2)\n",
            "Requirement already satisfied: PyYAML in /usr/local/lib/python3.7/dist-packages (from wandb) (3.13)\n",
            "Collecting yaspin>=1.0.0\n",
            "  Downloading yaspin-2.1.0-py3-none-any.whl (18 kB)\n",
            "Collecting GitPython>=1.0.0\n",
            "  Downloading GitPython-3.1.27-py3-none-any.whl (181 kB)\n",
            "\u001b[K     |████████████████████████████████| 181 kB 45.9 MB/s \n",
            "\u001b[?25hCollecting docker-pycreds>=0.4.0\n",
            "  Downloading docker_pycreds-0.4.0-py2.py3-none-any.whl (9.0 kB)\n",
            "Collecting gitdb<5,>=4.0.1\n",
            "  Downloading gitdb-4.0.9-py3-none-any.whl (63 kB)\n",
            "\u001b[K     |████████████████████████████████| 63 kB 1.7 MB/s \n",
            "\u001b[?25hRequirement already satisfied: typing-extensions>=3.7.4.3 in /usr/local/lib/python3.7/dist-packages (from GitPython>=1.0.0->wandb) (3.10.0.2)\n",
            "Collecting smmap<6,>=3.0.1\n",
            "  Downloading smmap-5.0.0-py3-none-any.whl (24 kB)\n",
            "Requirement already satisfied: idna<3,>=2.5 in /usr/local/lib/python3.7/dist-packages (from requests<3,>=2.0.0->wandb) (2.10)\n",
            "Requirement already satisfied: chardet<4,>=3.0.2 in /usr/local/lib/python3.7/dist-packages (from requests<3,>=2.0.0->wandb) (3.0.4)\n",
            "Requirement already satisfied: urllib3!=1.25.0,!=1.25.1,<1.26,>=1.21.1 in /usr/local/lib/python3.7/dist-packages (from requests<3,>=2.0.0->wandb) (1.24.3)\n",
            "Requirement already satisfied: certifi>=2017.4.17 in /usr/local/lib/python3.7/dist-packages (from requests<3,>=2.0.0->wandb) (2021.10.8)\n",
            "Requirement already satisfied: termcolor<2.0.0,>=1.1.0 in /usr/local/lib/python3.7/dist-packages (from yaspin>=1.0.0->wandb) (1.1.0)\n",
            "Building wheels for collected packages: pathtools\n",
            "  Building wheel for pathtools (setup.py) ... \u001b[?25l\u001b[?25hdone\n",
            "  Created wheel for pathtools: filename=pathtools-0.1.2-py3-none-any.whl size=8806 sha256=2ec223cfe368bd5d8c54dd8a71ad35522cb2b3892efde55cde9c6315d59c2a74\n",
            "  Stored in directory: /root/.cache/pip/wheels/3e/31/09/fa59cef12cdcfecc627b3d24273699f390e71828921b2cbba2\n",
            "Successfully built pathtools\n",
            "Installing collected packages: smmap, gitdb, yaspin, shortuuid, sentry-sdk, pathtools, GitPython, docker-pycreds, wandb\n",
            "Successfully installed GitPython-3.1.27 docker-pycreds-0.4.0 gitdb-4.0.9 pathtools-0.1.2 sentry-sdk-1.5.6 shortuuid-1.0.8 smmap-5.0.0 wandb-0.12.10 yaspin-2.1.0\n",
            "\u001b[34m\u001b[1mwandb\u001b[0m: You can find your API key in your browser here: https://wandb.ai/authorize\n",
            "\u001b[34m\u001b[1mwandb\u001b[0m: Paste an API key from your profile and hit enter, or press ctrl+c to quit: \n",
            "\u001b[34m\u001b[1mwandb\u001b[0m: Appending key for api.wandb.ai to your netrc file: /root/.netrc\n"
          ]
        }
      ]
    },
    {
      "cell_type": "code",
      "execution_count": 12,
      "metadata": {
        "colab": {
          "base_uri": "https://localhost:8080/"
        },
        "id": "jtXkhJnc628V",
        "outputId": "1982b0fa-ad9c-401c-e5e2-58fbea76c162"
      },
      "outputs": [
        {
          "output_type": "stream",
          "name": "stdout",
          "text": [
            "Downloading...\n",
            "From: https://drive.google.com/uc?id=13MRa51YRElF8n88Kh7RMglJCqSrTmrcg\n",
            "To: /content/data.zip\n",
            "\r  0% 0.00/15.1M [00:00<?, ?B/s]\r100% 15.1M/15.1M [00:00<00:00, 202MB/s]\n"
          ]
        }
      ],
      "source": [
        "# Download and extract the image dataset\n",
        "\n",
        "!rm -r data\n",
        "!gdown --id 13MRa51YRElF8n88Kh7RMglJCqSrTmrcg\n",
        "\n",
        "import zipfile\n",
        "with zipfile.ZipFile(f'./data.zip', 'r') as zip:\n",
        "    zip.extractall('.')\n",
        "!rm data.zip"
      ]
    },
    {
      "cell_type": "code",
      "execution_count": 121,
      "metadata": {
        "id": "cSNIQ_eW7b2S"
      },
      "outputs": [],
      "source": [
        "# Establishing constants\n",
        "\n",
        "DATA_DIRECTORY = './data'\n",
        "BATCH_SIZE=512\n",
        "LEARNING_RATE=0.0025\n",
        "EPOCHS=50\n",
        "COLOR_MODE='rgb' # Can be 'rgb' or 'grayscale', amongst other options\n",
        "IMAGE_SIZE=(96, 96) # Width x height, can be larger than input image \n",
        "INPUT_SHAPE=IMAGE_SIZE + (1 if COLOR_MODE == \"grayscale\" else 3,) # Width x height x colour profile (RGB = 3 channels, grayscale = 1 channel)"
      ]
    },
    {
      "cell_type": "code",
      "execution_count": 122,
      "metadata": {
        "colab": {
          "base_uri": "https://localhost:8080/"
        },
        "id": "qZpoA5MP7cx_",
        "outputId": "b73f275a-cff4-4205-b441-bbf17fc75b6b"
      },
      "outputs": [
        {
          "output_type": "stream",
          "name": "stdout",
          "text": [
            "Found 5000 validated image filenames.\n"
          ]
        }
      ],
      "source": [
        "import pandas as pd\n",
        "import numpy as np\n",
        "import tensorflow as tf\n",
        "\n",
        "\n",
        "data_df = pd.read_csv(f'{DATA_DIRECTORY}/metadata_lookup.csv')\n",
        "data_generator = tf.keras.preprocessing.image.ImageDataGenerator(\n",
        "    rescale=1/255.0, \n",
        "    horizontal_flip=False, \n",
        "    # rotation_range=90\n",
        "    )\n",
        "\n",
        "data_generator_from_df = data_generator.flow_from_dataframe(\n",
        "    dataframe=data_df, \n",
        "    directory=DATA_DIRECTORY, \n",
        "    x_col='file_name', \n",
        "    y_col=['age', 'gender'], \n",
        "    # has_ext=True, #Deprecated\n",
        "    batch_size=BATCH_SIZE, \n",
        "    shuffle=True,\n",
        "    target_size=IMAGE_SIZE, \n",
        "    color_mode=COLOR_MODE, \n",
        "    class_mode='raw')"
      ]
    },
    {
      "cell_type": "code",
      "execution_count": 123,
      "metadata": {
        "id": "839_ldCb9V9O"
      },
      "outputs": [],
      "source": [
        "import numpy as np\n",
        "\n",
        "image_data, label_data = [], []\n",
        "batch_index = 0\n",
        "\n",
        "while batch_index <= data_generator_from_df.batch_index:\n",
        "    data = data_generator_from_df.next()\n",
        "    image_data.extend(data[0])\n",
        "    label_data.extend(data[1])\n",
        "    batch_index = batch_index + 1\n",
        "image_data, label_data = np.array(image_data), np.array(label_data)"
      ]
    },
    {
      "cell_type": "code",
      "execution_count": 124,
      "metadata": {
        "colab": {
          "base_uri": "https://localhost:8080/"
        },
        "id": "_56udrL69tLf",
        "outputId": "d4d54912-a9f1-41a0-92e8-a15820141eac"
      },
      "outputs": [
        {
          "output_type": "stream",
          "name": "stdout",
          "text": [
            "(5000, 96, 96, 3)\n",
            "(5000, 2)\n"
          ]
        }
      ],
      "source": [
        "print(image_data.shape)\n",
        "print(label_data.shape)\n",
        "\n",
        "label_data_age, label_data_gender = label_data[:, 0], label_data[:, 1]"
      ]
    },
    {
      "cell_type": "code",
      "execution_count": 125,
      "metadata": {
        "colab": {
          "base_uri": "https://localhost:8080/"
        },
        "id": "R2kavKUIjRkB",
        "outputId": "1444da9f-63cc-4ca0-8657-11dc4c4ea191"
      },
      "outputs": [
        {
          "output_type": "stream",
          "name": "stdout",
          "text": [
            "[name: \"/device:CPU:0\"\n",
            "device_type: \"CPU\"\n",
            "memory_limit: 268435456\n",
            "locality {\n",
            "}\n",
            "incarnation: 2247735858906048101\n",
            "xla_global_id: -1\n",
            ", name: \"/device:GPU:0\"\n",
            "device_type: \"GPU\"\n",
            "memory_limit: 11320098816\n",
            "locality {\n",
            "  bus_id: 1\n",
            "  links {\n",
            "  }\n",
            "}\n",
            "incarnation: 9003493110011311970\n",
            "physical_device_desc: \"device: 0, name: Tesla K80, pci bus id: 0000:00:04.0, compute capability: 3.7\"\n",
            "xla_global_id: 416903419\n",
            "]\n"
          ]
        }
      ],
      "source": [
        "#Check GPU exists and is in use\n",
        "\n",
        "from tensorflow.python.client import device_lib\n",
        "print(device_lib.list_local_devices())"
      ]
    },
    {
      "cell_type": "code",
      "execution_count": 126,
      "metadata": {
        "colab": {
          "base_uri": "https://localhost:8080/"
        },
        "id": "O4uM3g3xklSI",
        "outputId": "a0ed9cbe-e69f-497a-dc62-a2cc2116aa23"
      },
      "outputs": [
        {
          "output_type": "stream",
          "name": "stdout",
          "text": [
            "Model: \"model_14\"\n",
            "__________________________________________________________________________________________________\n",
            " Layer (type)                   Output Shape         Param #     Connected to                     \n",
            "==================================================================================================\n",
            " input_15 (InputLayer)          [(None, 96, 96, 3)]  0           []                               \n",
            "                                                                                                  \n",
            " conv2d_42 (Conv2D)             (None, 94, 94, 48)   1344        ['input_15[0][0]']               \n",
            "                                                                                                  \n",
            " max_pooling2d_42 (MaxPooling2D  (None, 47, 47, 48)  0           ['conv2d_42[0][0]']              \n",
            " )                                                                                                \n",
            "                                                                                                  \n",
            " conv2d_43 (Conv2D)             (None, 45, 45, 96)   41568       ['max_pooling2d_42[0][0]']       \n",
            "                                                                                                  \n",
            " max_pooling2d_43 (MaxPooling2D  (None, 22, 22, 96)  0           ['conv2d_43[0][0]']              \n",
            " )                                                                                                \n",
            "                                                                                                  \n",
            " flatten_14 (Flatten)           (None, 46464)        0           ['max_pooling2d_43[0][0]']       \n",
            "                                                                                                  \n",
            " dropout_23 (Dropout)           (None, 46464)        0           ['flatten_14[0][0]']             \n",
            "                                                                                                  \n",
            " dense_27 (Dense)               (None, 256)          11895040    ['dropout_23[0][0]']             \n",
            "                                                                                                  \n",
            " dense_28 (Dense)               (None, 256)          65792       ['dense_27[0][0]']               \n",
            "                                                                                                  \n",
            " dropout_24 (Dropout)           (None, 256)          0           ['dense_28[0][0]']               \n",
            "                                                                                                  \n",
            " DenseAge (Dense)               (None, 1)            257         ['dropout_24[0][0]']             \n",
            "                                                                                                  \n",
            " DenseGender (Dense)            (None, 1)            257         ['dropout_24[0][0]']             \n",
            "                                                                                                  \n",
            "==================================================================================================\n",
            "Total params: 12,004,258\n",
            "Trainable params: 12,004,258\n",
            "Non-trainable params: 0\n",
            "__________________________________________________________________________________________________\n"
          ]
        }
      ],
      "source": [
        "# Define the model using the Functional API\n",
        "\n",
        "from tensorflow.keras import layers\n",
        "import keras\n",
        "\n",
        "# tf.debugging.set_log_device_placement(True) # Uncomment to verify Keras is running the model on the GPU\n",
        "\n",
        "input = keras.Input(shape=INPUT_SHAPE)\n",
        "x = layers.Conv2D(48, kernel_size=(3, 3), activation=\"relu\")(input)\n",
        "x = layers.MaxPooling2D(pool_size=(2, 2))(x)\n",
        "x = layers.Conv2D(96, kernel_size=(3, 3), activation=\"relu\")(x)\n",
        "x = layers.MaxPooling2D(pool_size=(2, 2))(x)\n",
        "# x = layers.Conv2D(96, kernel_size=(3, 3), activation=\"relu\")(x)\n",
        "# x = layers.MaxPooling2D(pool_size=(2, 2))(x)\n",
        "# x = layers.Dropout(0.5)(x)\n",
        "\n",
        "x = layers.Flatten()(x)\n",
        "x = layers.Dropout(0.5)(x)\n",
        "x = layers.Dense(256, activation=\"relu\")(x)\n",
        "x = layers.Dense(256, activation=\"relu\")(x)\n",
        "x = layers.Dropout(0.5)(x)\n",
        "\n",
        "out_age = layers.Dense(1, activation=\"relu\", name=\"DenseAge\")(x) # Using ReLU activation to skip negative values, as the age will never be negative\n",
        "out_gender = layers.Dense(1, activation=\"sigmoid\", name=\"DenseGender\")(x) # Using sigmoid to limit 0 <= x <= 1\n",
        "model = keras.models.Model(inputs = input, outputs = [out_age, out_gender])\n",
        "\n",
        "\n",
        "# x = layers.Conv2D(64, kernel_size=(3, 3))(input)\n",
        "# x = layers.Conv2D(64, kernel_size=(3, 3))(x)\n",
        "\n",
        "# x = layers.MaxPooling2D(pool_size=(2, 2))(x)\n",
        "# x = layers.Conv2D(128, kernel_size=(3, 3))(x)\n",
        "# x = layers.Conv2D(128, kernel_size=(3, 3))(x)\n",
        "\n",
        "# x = layers.MaxPooling2D(pool_size=(2, 2))(x)\n",
        "# x = layers.Conv2D(256, kernel_size=(3, 3))(x)\n",
        "# x = layers.Conv2D(256, kernel_size=(3, 3))(x)\n",
        "# x = layers.Conv2D(256, kernel_size=(3, 3))(x)\n",
        "\n",
        "# x = layers.MaxPooling2D(pool_size=(2, 2))(x)\n",
        "# x = layers.Conv2D(512, kernel_size=(3, 3))(x)\n",
        "# x = layers.Conv2D(512, kernel_size=(3, 3))(x)\n",
        "# x = layers.Conv2D(512, kernel_size=(3, 3))(x)\n",
        "\n",
        "# x = layers.MaxPooling2D(pool_size=(2, 2))(x)\n",
        "# x = layers.Conv2D(512, kernel_size=(3, 3))(x)\n",
        "# x = layers.Conv2D(512, kernel_size=(3, 3))(x)\n",
        "# x = layers.Conv2D(512, kernel_size=(3, 3))(x)\n",
        "\n",
        "# x = layers.MaxPooling2D(pool_size=(2, 2))(x)\n",
        "\n",
        "# x = layers.Flatten()(x)\n",
        "# x = layers.Dense(4096, activation=\"relu\")(x)\n",
        "# x = layers.Dense(4096, activation=\"relu\")(x)\n",
        "# x = layers.Dropout(0.5)(x)\n",
        "\n",
        "\n",
        "# out_age = layers.Dense(1, activation=\"relu\", name=\"DenseAge\")(x) # Using ReLU activation to skip negative values, as the age will never be negative\n",
        "# out_gender = layers.Dense(1, activation=\"sigmoid\", name=\"DenseGender\")(x) # Using sigmoid to limit 0 <= x <= 1\n",
        "# model = keras.models.Model(inputs = input, outputs = [out_age, out_gender])\n",
        "\n",
        "\n",
        "\n",
        "model.summary()\n",
        "# tf.keras.utils.plot_model(\n",
        "#     model\n",
        "# )"
      ]
    },
    {
      "cell_type": "code",
      "execution_count": 127,
      "metadata": {
        "colab": {
          "base_uri": "https://localhost:8080/",
          "height": 1000,
          "referenced_widgets": [
            "d040184946394d16a539f9e63695bd4c",
            "477cbb2640f54edebebc3c9784d7c00e",
            "7d9f2da3d4a34010872244f618b81c73",
            "1941cc2244e14bf0a39fe6508fc8a96b",
            "0007d17ef49148c7824438b7293bee24",
            "60a9e893945640e18e471bb32059a535",
            "56da735467c34d9288967821bbd2cbd0",
            "25e0d5abc0d04d99af4e407fe3e26bf8"
          ]
        },
        "id": "mQzC9Ia3lvB-",
        "outputId": "6d31f770-d6f0-4cce-eae2-2a90556e2c4b"
      },
      "outputs": [
        {
          "output_type": "display_data",
          "data": {
            "text/html": [
              "Finishing last run (ID:183llprh) before initializing another..."
            ],
            "text/plain": [
              "<IPython.core.display.HTML object>"
            ]
          },
          "metadata": {}
        },
        {
          "output_type": "display_data",
          "data": {
            "text/html": [
              "<br/>Waiting for W&B process to finish, PID 3477... <strong style=\"color:green\">(success).</strong>"
            ],
            "text/plain": [
              "<IPython.core.display.HTML object>"
            ]
          },
          "metadata": {}
        },
        {
          "output_type": "display_data",
          "data": {
            "application/vnd.jupyter.widget-view+json": {
              "model_id": "d040184946394d16a539f9e63695bd4c",
              "version_minor": 0,
              "version_major": 2
            },
            "text/plain": [
              "VBox(children=(Label(value=' 92.23MB of 92.23MB uploaded (0.00MB deduped)\\r'), FloatProgress(value=1.0, max=1.…"
            ]
          },
          "metadata": {}
        },
        {
          "output_type": "display_data",
          "data": {
            "text/html": [
              "<style>\n",
              "    table.wandb td:nth-child(1) { padding: 0 10px; text-align: right }\n",
              "    .wandb-row { display: flex; flex-direction: row; flex-wrap: wrap; width: 100% }\n",
              "    .wandb-col { display: flex; flex-direction: column; flex-basis: 100%; flex: 1; padding: 10px; }\n",
              "    </style>\n",
              "<div class=\"wandb-row\"><div class=\"wandb-col\">\n",
              "<h3>Run history:</h3><br/><table class=\"wandb\"><tr><td>DenseAge_loss</td><td>█▇▆▆▄▄▄▄▃▃▃▃▃▂▂▃▂▂▂▂▂▂▂▂▂▂▂▂▁▁▁▁▁▁▁▁▁▁▁▁</td></tr><tr><td>DenseAge_mean_absolute_error</td><td>█▇▆▆▄▄▄▄▃▃▃▃▃▂▂▃▂▂▂▂▂▂▂▂▂▂▂▂▁▁▁▁▁▁▁▁▁▁▁▁</td></tr><tr><td>DenseGender_binary_accuracy</td><td>▁▁▂▄▅▅▅▆▆▆▆▇▇▇▇▇▇▇▇▇▇▇▇▇████████████████</td></tr><tr><td>DenseGender_loss</td><td>█▅▄▄▃▃▃▃▂▃▂▂▂▂▂▂▂▂▂▂▂▂▂▁▁▁▁▁▁▁▁▁▁▁▁▁▁▁▁▁</td></tr><tr><td>epoch</td><td>▁▁▁▁▂▂▂▂▂▃▃▃▃▃▃▄▄▄▄▄▅▅▅▅▅▅▆▆▆▆▆▆▇▇▇▇▇███</td></tr><tr><td>loss</td><td>█▆▆▅▄▄▄▄▃▃▃▃▂▂▂▃▂▂▂▂▂▂▂▂▂▂▂▂▁▁▁▁▁▁▁▁▁▁▁▁</td></tr><tr><td>val_DenseAge_loss</td><td>█▇▆▅▄▃▂▃▂▂▂▂▁▂▂▂▁▂▁▁▁▁▁▁▁▁▁▁▁▁▁▁▁▁▁▁▁▁▂▁</td></tr><tr><td>val_DenseAge_mean_absolute_error</td><td>█▇▆▅▄▃▂▃▂▂▂▂▁▂▂▂▁▂▁▁▁▁▁▁▁▁▁▁▁▁▁▁▁▁▁▁▁▁▂▁</td></tr><tr><td>val_DenseGender_binary_accuracy</td><td>▂▁▄▅▆▆▇▇▇▇▇▇█▇▇▇██████▇█████████████████</td></tr><tr><td>val_DenseGender_loss</td><td>██▇▆▅▄▄▄▃▂▂▂▂▂▂▂▂▁▂▂▁▂▂▁▁▁▁▁▁▁▁▁▁▂▁▁▁▁▂▂</td></tr><tr><td>val_loss</td><td>█▇▆▅▄▃▃▃▂▂▂▂▁▂▂▂▁▂▁▁▁▁▁▁▁▁▁▁▁▁▁▁▁▁▁▁▁▁▂▁</td></tr></table><br/></div><div class=\"wandb-col\">\n",
              "<h3>Run summary:</h3><br/><table class=\"wandb\"><tr><td>DenseAge_loss</td><td>5.46834</td></tr><tr><td>DenseAge_mean_absolute_error</td><td>5.46834</td></tr><tr><td>DenseGender_binary_accuracy</td><td>0.89307</td></tr><tr><td>DenseGender_loss</td><td>0.25157</td></tr><tr><td>best_epoch</td><td>40</td></tr><tr><td>best_val_loss</td><td>8.36642</td></tr><tr><td>epoch</td><td>49</td></tr><tr><td>loss</td><td>5.71991</td></tr><tr><td>val_DenseAge_loss</td><td>8.28717</td></tr><tr><td>val_DenseAge_mean_absolute_error</td><td>8.28717</td></tr><tr><td>val_DenseGender_binary_accuracy</td><td>0.848</td></tr><tr><td>val_DenseGender_loss</td><td>0.35202</td></tr><tr><td>val_loss</td><td>8.63919</td></tr></table>\n",
              "</div></div>\n",
              "Synced 5 W&B file(s), 1 media file(s), 0 artifact file(s) and 1 other file(s)\n",
              "<br/>Synced <strong style=\"color:#cdcd00\">deft-sun-24</strong>: <a href=\"https://wandb.ai/ml2-group-k/ml2-group-k/runs/183llprh\" target=\"_blank\">https://wandb.ai/ml2-group-k/ml2-group-k/runs/183llprh</a><br/>\n",
              "Find logs at: <code>./wandb/run-20220301_161405-183llprh/logs</code><br/>\n"
            ],
            "text/plain": [
              "<IPython.core.display.HTML object>"
            ]
          },
          "metadata": {}
        },
        {
          "output_type": "display_data",
          "data": {
            "text/html": [
              "Successfully finished last run (ID:183llprh). Initializing new run:<br/>"
            ],
            "text/plain": [
              "<IPython.core.display.HTML object>"
            ]
          },
          "metadata": {}
        },
        {
          "output_type": "display_data",
          "data": {
            "text/html": [
              "\n",
              "                    Syncing run <strong><a href=\"https://wandb.ai/ml2-group-k/ml2-group-k/runs/s7j5f858\" target=\"_blank\">restful-water-25</a></strong> to <a href=\"https://wandb.ai/ml2-group-k/ml2-group-k\" target=\"_blank\">Weights & Biases</a> (<a href=\"https://docs.wandb.com/integrations/jupyter.html\" target=\"_blank\">docs</a>).<br/>\n",
              "\n",
              "                "
            ],
            "text/plain": [
              "<IPython.core.display.HTML object>"
            ]
          },
          "metadata": {}
        },
        {
          "output_type": "stream",
          "name": "stdout",
          "text": [
            "Epoch 1/50\n",
            " 6/50 [==>...........................] - ETA: 3s - loss: 32.9039 - DenseAge_loss: 31.0839 - DenseGender_loss: 1.8200 - DenseAge_mean_absolute_error: 31.0839 - DenseGender_binary_accuracy: 0.5111WARNING:tensorflow:Callback method `on_train_batch_end` is slow compared to the batch time (batch time: 0.0118s vs `on_train_batch_end` time: 0.0545s). Check your callbacks.\n",
            "50/50 [==============================] - 7s 110ms/step - loss: 21.2575 - DenseAge_loss: 19.9682 - DenseGender_loss: 1.2892 - DenseAge_mean_absolute_error: 19.9682 - DenseGender_binary_accuracy: 0.5003 - val_loss: 15.9045 - val_DenseAge_loss: 15.2380 - val_DenseGender_loss: 0.6665 - val_DenseAge_mean_absolute_error: 15.2380 - val_DenseGender_binary_accuracy: 0.6328\n",
            "Epoch 2/50\n",
            "50/50 [==============================] - 6s 115ms/step - loss: 16.5811 - DenseAge_loss: 15.7551 - DenseGender_loss: 0.8260 - DenseAge_mean_absolute_error: 15.7551 - DenseGender_binary_accuracy: 0.5115 - val_loss: 15.1413 - val_DenseAge_loss: 14.4492 - val_DenseGender_loss: 0.6922 - val_DenseAge_mean_absolute_error: 14.4492 - val_DenseGender_binary_accuracy: 0.5032\n",
            "Epoch 3/50\n",
            "50/50 [==============================] - 5s 95ms/step - loss: 15.5777 - DenseAge_loss: 14.8792 - DenseGender_loss: 0.6986 - DenseAge_mean_absolute_error: 14.8792 - DenseGender_binary_accuracy: 0.5757 - val_loss: 14.0300 - val_DenseAge_loss: 13.4187 - val_DenseGender_loss: 0.6113 - val_DenseAge_mean_absolute_error: 13.4187 - val_DenseGender_binary_accuracy: 0.6880\n",
            "Epoch 4/50\n",
            "50/50 [==============================] - 4s 89ms/step - loss: 14.6121 - DenseAge_loss: 13.9801 - DenseGender_loss: 0.6320 - DenseAge_mean_absolute_error: 13.9801 - DenseGender_binary_accuracy: 0.6435 - val_loss: 12.6123 - val_DenseAge_loss: 12.0632 - val_DenseGender_loss: 0.5491 - val_DenseAge_mean_absolute_error: 12.0632 - val_DenseGender_binary_accuracy: 0.7376\n",
            "Epoch 5/50\n",
            "50/50 [==============================] - 4s 88ms/step - loss: 13.3083 - DenseAge_loss: 12.7144 - DenseGender_loss: 0.5939 - DenseAge_mean_absolute_error: 12.7144 - DenseGender_binary_accuracy: 0.6984 - val_loss: 11.7679 - val_DenseAge_loss: 11.1318 - val_DenseGender_loss: 0.6361 - val_DenseAge_mean_absolute_error: 11.1318 - val_DenseGender_binary_accuracy: 0.6144\n",
            "Epoch 6/50\n",
            "50/50 [==============================] - 5s 91ms/step - loss: 12.6967 - DenseAge_loss: 12.1029 - DenseGender_loss: 0.5938 - DenseAge_mean_absolute_error: 12.1029 - DenseGender_binary_accuracy: 0.6973 - val_loss: 11.0440 - val_DenseAge_loss: 10.5254 - val_DenseGender_loss: 0.5186 - val_DenseAge_mean_absolute_error: 10.5254 - val_DenseGender_binary_accuracy: 0.7464\n",
            "Epoch 7/50\n",
            "50/50 [==============================] - 4s 88ms/step - loss: 11.8191 - DenseAge_loss: 11.2561 - DenseGender_loss: 0.5629 - DenseAge_mean_absolute_error: 11.2561 - DenseGender_binary_accuracy: 0.7205 - val_loss: 10.9031 - val_DenseAge_loss: 10.4095 - val_DenseGender_loss: 0.4936 - val_DenseAge_mean_absolute_error: 10.4095 - val_DenseGender_binary_accuracy: 0.7616\n",
            "Epoch 8/50\n",
            "50/50 [==============================] - 5s 91ms/step - loss: 11.5448 - DenseAge_loss: 10.9902 - DenseGender_loss: 0.5546 - DenseAge_mean_absolute_error: 10.9902 - DenseGender_binary_accuracy: 0.7248 - val_loss: 10.8749 - val_DenseAge_loss: 10.3942 - val_DenseGender_loss: 0.4808 - val_DenseAge_mean_absolute_error: 10.3942 - val_DenseGender_binary_accuracy: 0.7792\n",
            "Epoch 9/50\n",
            "50/50 [==============================] - 5s 91ms/step - loss: 10.9628 - DenseAge_loss: 10.4446 - DenseGender_loss: 0.5182 - DenseAge_mean_absolute_error: 10.4446 - DenseGender_binary_accuracy: 0.7531 - val_loss: 9.5859 - val_DenseAge_loss: 9.1608 - val_DenseGender_loss: 0.4251 - val_DenseAge_mean_absolute_error: 9.1608 - val_DenseGender_binary_accuracy: 0.8064\n",
            "Epoch 10/50\n",
            "50/50 [==============================] - 4s 81ms/step - loss: 10.4773 - DenseAge_loss: 9.9815 - DenseGender_loss: 0.4958 - DenseAge_mean_absolute_error: 9.9815 - DenseGender_binary_accuracy: 0.7688 - val_loss: 9.7104 - val_DenseAge_loss: 9.2264 - val_DenseGender_loss: 0.4840 - val_DenseAge_mean_absolute_error: 9.2264 - val_DenseGender_binary_accuracy: 0.7608\n",
            "Epoch 11/50\n",
            "50/50 [==============================] - 4s 81ms/step - loss: 9.8991 - DenseAge_loss: 9.4281 - DenseGender_loss: 0.4710 - DenseAge_mean_absolute_error: 9.4281 - DenseGender_binary_accuracy: 0.7829 - val_loss: 10.1537 - val_DenseAge_loss: 9.7655 - val_DenseGender_loss: 0.3882 - val_DenseAge_mean_absolute_error: 9.7655 - val_DenseGender_binary_accuracy: 0.8368\n",
            "Epoch 12/50\n",
            "50/50 [==============================] - 4s 90ms/step - loss: 9.6843 - DenseAge_loss: 9.2571 - DenseGender_loss: 0.4272 - DenseAge_mean_absolute_error: 9.2571 - DenseGender_binary_accuracy: 0.8027 - val_loss: 8.9760 - val_DenseAge_loss: 8.6071 - val_DenseGender_loss: 0.3688 - val_DenseAge_mean_absolute_error: 8.6071 - val_DenseGender_binary_accuracy: 0.8352\n",
            "Epoch 13/50\n",
            "50/50 [==============================] - 4s 80ms/step - loss: 9.0849 - DenseAge_loss: 8.6815 - DenseGender_loss: 0.4033 - DenseAge_mean_absolute_error: 8.6815 - DenseGender_binary_accuracy: 0.8203 - val_loss: 9.5575 - val_DenseAge_loss: 9.1534 - val_DenseGender_loss: 0.4041 - val_DenseAge_mean_absolute_error: 9.1534 - val_DenseGender_binary_accuracy: 0.8080\n",
            "Epoch 14/50\n",
            "50/50 [==============================] - 4s 81ms/step - loss: 9.2577 - DenseAge_loss: 8.8473 - DenseGender_loss: 0.4104 - DenseAge_mean_absolute_error: 8.8473 - DenseGender_binary_accuracy: 0.8216 - val_loss: 9.1107 - val_DenseAge_loss: 8.7129 - val_DenseGender_loss: 0.3977 - val_DenseAge_mean_absolute_error: 8.7129 - val_DenseGender_binary_accuracy: 0.8192\n",
            "Epoch 15/50\n",
            "50/50 [==============================] - 4s 82ms/step - loss: 8.9142 - DenseAge_loss: 8.5274 - DenseGender_loss: 0.3868 - DenseAge_mean_absolute_error: 8.5274 - DenseGender_binary_accuracy: 0.8344 - val_loss: 9.2570 - val_DenseAge_loss: 8.8738 - val_DenseGender_loss: 0.3831 - val_DenseAge_mean_absolute_error: 8.8738 - val_DenseGender_binary_accuracy: 0.8208\n",
            "Epoch 16/50\n",
            "50/50 [==============================] - 5s 92ms/step - loss: 8.3001 - DenseAge_loss: 7.9267 - DenseGender_loss: 0.3733 - DenseAge_mean_absolute_error: 7.9267 - DenseGender_binary_accuracy: 0.8403 - val_loss: 8.6088 - val_DenseAge_loss: 8.2087 - val_DenseGender_loss: 0.4001 - val_DenseAge_mean_absolute_error: 8.2087 - val_DenseGender_binary_accuracy: 0.8232\n",
            "Epoch 17/50\n",
            "50/50 [==============================] - 5s 92ms/step - loss: 8.0091 - DenseAge_loss: 7.6539 - DenseGender_loss: 0.3552 - DenseAge_mean_absolute_error: 7.6539 - DenseGender_binary_accuracy: 0.8504 - val_loss: 8.5019 - val_DenseAge_loss: 8.1652 - val_DenseGender_loss: 0.3367 - val_DenseAge_mean_absolute_error: 8.1652 - val_DenseGender_binary_accuracy: 0.8456\n",
            "Epoch 18/50\n",
            "50/50 [==============================] - 4s 83ms/step - loss: 7.9174 - DenseAge_loss: 7.5860 - DenseGender_loss: 0.3314 - DenseAge_mean_absolute_error: 7.5860 - DenseGender_binary_accuracy: 0.8549 - val_loss: 8.7167 - val_DenseAge_loss: 8.3743 - val_DenseGender_loss: 0.3424 - val_DenseAge_mean_absolute_error: 8.3743 - val_DenseGender_binary_accuracy: 0.8488\n",
            "Epoch 19/50\n",
            "50/50 [==============================] - 4s 83ms/step - loss: 7.9294 - DenseAge_loss: 7.5880 - DenseGender_loss: 0.3414 - DenseAge_mean_absolute_error: 7.5880 - DenseGender_binary_accuracy: 0.8573 - val_loss: 8.6504 - val_DenseAge_loss: 8.2990 - val_DenseGender_loss: 0.3514 - val_DenseAge_mean_absolute_error: 8.2990 - val_DenseGender_binary_accuracy: 0.8392\n",
            "Epoch 20/50\n",
            "50/50 [==============================] - 4s 82ms/step - loss: 7.5597 - DenseAge_loss: 7.2251 - DenseGender_loss: 0.3347 - DenseAge_mean_absolute_error: 7.2251 - DenseGender_binary_accuracy: 0.8637 - val_loss: 9.1667 - val_DenseAge_loss: 8.8299 - val_DenseGender_loss: 0.3368 - val_DenseAge_mean_absolute_error: 8.8299 - val_DenseGender_binary_accuracy: 0.8648\n",
            "Epoch 21/50\n",
            "50/50 [==============================] - 4s 83ms/step - loss: 7.6545 - DenseAge_loss: 7.3179 - DenseGender_loss: 0.3366 - DenseAge_mean_absolute_error: 7.3179 - DenseGender_binary_accuracy: 0.8611 - val_loss: 8.5212 - val_DenseAge_loss: 8.1974 - val_DenseGender_loss: 0.3238 - val_DenseAge_mean_absolute_error: 8.1974 - val_DenseGender_binary_accuracy: 0.8600\n",
            "Epoch 22/50\n",
            "50/50 [==============================] - 4s 82ms/step - loss: 7.3550 - DenseAge_loss: 7.0496 - DenseGender_loss: 0.3054 - DenseAge_mean_absolute_error: 7.0496 - DenseGender_binary_accuracy: 0.8699 - val_loss: 8.7017 - val_DenseAge_loss: 8.3048 - val_DenseGender_loss: 0.3969 - val_DenseAge_mean_absolute_error: 8.3048 - val_DenseGender_binary_accuracy: 0.8152\n",
            "Epoch 23/50\n",
            "50/50 [==============================] - 4s 88ms/step - loss: 7.2743 - DenseAge_loss: 6.9469 - DenseGender_loss: 0.3274 - DenseAge_mean_absolute_error: 6.9469 - DenseGender_binary_accuracy: 0.8627 - val_loss: 8.2319 - val_DenseAge_loss: 7.8530 - val_DenseGender_loss: 0.3789 - val_DenseAge_mean_absolute_error: 7.8530 - val_DenseGender_binary_accuracy: 0.8312\n",
            "Epoch 24/50\n",
            "50/50 [==============================] - 4s 89ms/step - loss: 6.6680 - DenseAge_loss: 6.3876 - DenseGender_loss: 0.2804 - DenseAge_mean_absolute_error: 6.3876 - DenseGender_binary_accuracy: 0.8832 - val_loss: 8.2112 - val_DenseAge_loss: 7.8573 - val_DenseGender_loss: 0.3539 - val_DenseAge_mean_absolute_error: 7.8573 - val_DenseGender_binary_accuracy: 0.8376\n",
            "Epoch 25/50\n",
            "50/50 [==============================] - 4s 80ms/step - loss: 6.8073 - DenseAge_loss: 6.5061 - DenseGender_loss: 0.3012 - DenseAge_mean_absolute_error: 6.5061 - DenseGender_binary_accuracy: 0.8755 - val_loss: 8.3657 - val_DenseAge_loss: 8.0174 - val_DenseGender_loss: 0.3483 - val_DenseAge_mean_absolute_error: 8.0174 - val_DenseGender_binary_accuracy: 0.8568\n",
            "Epoch 26/50\n",
            "50/50 [==============================] - 4s 81ms/step - loss: 6.8136 - DenseAge_loss: 6.5287 - DenseGender_loss: 0.2848 - DenseAge_mean_absolute_error: 6.5287 - DenseGender_binary_accuracy: 0.8752 - val_loss: 8.3226 - val_DenseAge_loss: 7.9535 - val_DenseGender_loss: 0.3691 - val_DenseAge_mean_absolute_error: 7.9535 - val_DenseGender_binary_accuracy: 0.8432\n",
            "Epoch 27/50\n",
            "50/50 [==============================] - 4s 83ms/step - loss: 6.6477 - DenseAge_loss: 6.3755 - DenseGender_loss: 0.2723 - DenseAge_mean_absolute_error: 6.3755 - DenseGender_binary_accuracy: 0.8893 - val_loss: 8.3157 - val_DenseAge_loss: 7.9695 - val_DenseGender_loss: 0.3462 - val_DenseAge_mean_absolute_error: 7.9695 - val_DenseGender_binary_accuracy: 0.8448\n",
            "Epoch 28/50\n",
            "50/50 [==============================] - 4s 81ms/step - loss: 6.3523 - DenseAge_loss: 6.0777 - DenseGender_loss: 0.2746 - DenseAge_mean_absolute_error: 6.0777 - DenseGender_binary_accuracy: 0.8827 - val_loss: 8.3905 - val_DenseAge_loss: 8.0468 - val_DenseGender_loss: 0.3437 - val_DenseAge_mean_absolute_error: 8.0468 - val_DenseGender_binary_accuracy: 0.8616\n",
            "Epoch 29/50\n",
            "50/50 [==============================] - 4s 80ms/step - loss: 6.7016 - DenseAge_loss: 6.4365 - DenseGender_loss: 0.2652 - DenseAge_mean_absolute_error: 6.4365 - DenseGender_binary_accuracy: 0.8883 - val_loss: 8.3814 - val_DenseAge_loss: 8.0178 - val_DenseGender_loss: 0.3636 - val_DenseAge_mean_absolute_error: 8.0178 - val_DenseGender_binary_accuracy: 0.8528\n",
            "Epoch 30/50\n",
            "50/50 [==============================] - 4s 81ms/step - loss: 6.4583 - DenseAge_loss: 6.1964 - DenseGender_loss: 0.2619 - DenseAge_mean_absolute_error: 6.1964 - DenseGender_binary_accuracy: 0.8968 - val_loss: 8.5460 - val_DenseAge_loss: 8.2121 - val_DenseGender_loss: 0.3340 - val_DenseAge_mean_absolute_error: 8.2121 - val_DenseGender_binary_accuracy: 0.8632\n",
            "Epoch 31/50\n",
            "50/50 [==============================] - 4s 90ms/step - loss: 6.4256 - DenseAge_loss: 6.1663 - DenseGender_loss: 0.2593 - DenseAge_mean_absolute_error: 6.1663 - DenseGender_binary_accuracy: 0.8949 - val_loss: 8.1928 - val_DenseAge_loss: 7.8417 - val_DenseGender_loss: 0.3511 - val_DenseAge_mean_absolute_error: 7.8417 - val_DenseGender_binary_accuracy: 0.8624\n",
            "Epoch 32/50\n",
            "50/50 [==============================] - 4s 82ms/step - loss: 6.3147 - DenseAge_loss: 6.0350 - DenseGender_loss: 0.2796 - DenseAge_mean_absolute_error: 6.0350 - DenseGender_binary_accuracy: 0.8872 - val_loss: 8.2397 - val_DenseAge_loss: 7.8564 - val_DenseGender_loss: 0.3834 - val_DenseAge_mean_absolute_error: 7.8564 - val_DenseGender_binary_accuracy: 0.8456\n",
            "Epoch 33/50\n",
            "50/50 [==============================] - 4s 83ms/step - loss: 6.2408 - DenseAge_loss: 5.9915 - DenseGender_loss: 0.2493 - DenseAge_mean_absolute_error: 5.9915 - DenseGender_binary_accuracy: 0.8957 - val_loss: 8.3735 - val_DenseAge_loss: 8.0255 - val_DenseGender_loss: 0.3480 - val_DenseAge_mean_absolute_error: 8.0255 - val_DenseGender_binary_accuracy: 0.8576\n",
            "Epoch 34/50\n",
            "50/50 [==============================] - 5s 91ms/step - loss: 5.9907 - DenseAge_loss: 5.7702 - DenseGender_loss: 0.2205 - DenseAge_mean_absolute_error: 5.7702 - DenseGender_binary_accuracy: 0.9027 - val_loss: 8.0452 - val_DenseAge_loss: 7.6840 - val_DenseGender_loss: 0.3612 - val_DenseAge_mean_absolute_error: 7.6840 - val_DenseGender_binary_accuracy: 0.8600\n",
            "Epoch 35/50\n",
            "50/50 [==============================] - 4s 81ms/step - loss: 6.0272 - DenseAge_loss: 5.8027 - DenseGender_loss: 0.2245 - DenseAge_mean_absolute_error: 5.8027 - DenseGender_binary_accuracy: 0.9077 - val_loss: 8.1686 - val_DenseAge_loss: 7.7835 - val_DenseGender_loss: 0.3852 - val_DenseAge_mean_absolute_error: 7.7835 - val_DenseGender_binary_accuracy: 0.8416\n",
            "Epoch 36/50\n",
            "50/50 [==============================] - 4s 84ms/step - loss: 6.1689 - DenseAge_loss: 5.9350 - DenseGender_loss: 0.2339 - DenseAge_mean_absolute_error: 5.9350 - DenseGender_binary_accuracy: 0.9045 - val_loss: 8.0577 - val_DenseAge_loss: 7.6966 - val_DenseGender_loss: 0.3611 - val_DenseAge_mean_absolute_error: 7.6966 - val_DenseGender_binary_accuracy: 0.8624\n",
            "Epoch 37/50\n",
            "50/50 [==============================] - 4s 84ms/step - loss: 5.8063 - DenseAge_loss: 5.5815 - DenseGender_loss: 0.2248 - DenseAge_mean_absolute_error: 5.5815 - DenseGender_binary_accuracy: 0.9075 - val_loss: 8.3289 - val_DenseAge_loss: 7.9694 - val_DenseGender_loss: 0.3595 - val_DenseAge_mean_absolute_error: 7.9694 - val_DenseGender_binary_accuracy: 0.8600\n",
            "Epoch 38/50\n",
            "50/50 [==============================] - 4s 83ms/step - loss: 5.7987 - DenseAge_loss: 5.6063 - DenseGender_loss: 0.1924 - DenseAge_mean_absolute_error: 5.6063 - DenseGender_binary_accuracy: 0.9227 - val_loss: 8.3059 - val_DenseAge_loss: 7.9190 - val_DenseGender_loss: 0.3869 - val_DenseAge_mean_absolute_error: 7.9190 - val_DenseGender_binary_accuracy: 0.8480\n",
            "Epoch 39/50\n",
            "50/50 [==============================] - 4s 82ms/step - loss: 5.8394 - DenseAge_loss: 5.6345 - DenseGender_loss: 0.2049 - DenseAge_mean_absolute_error: 5.6345 - DenseGender_binary_accuracy: 0.9200 - val_loss: 8.6521 - val_DenseAge_loss: 8.2825 - val_DenseGender_loss: 0.3697 - val_DenseAge_mean_absolute_error: 8.2825 - val_DenseGender_binary_accuracy: 0.8656\n",
            "Epoch 40/50\n",
            "50/50 [==============================] - 4s 85ms/step - loss: 5.7081 - DenseAge_loss: 5.5074 - DenseGender_loss: 0.2007 - DenseAge_mean_absolute_error: 5.5074 - DenseGender_binary_accuracy: 0.9192 - val_loss: 8.0520 - val_DenseAge_loss: 7.6850 - val_DenseGender_loss: 0.3670 - val_DenseAge_mean_absolute_error: 7.6850 - val_DenseGender_binary_accuracy: 0.8584\n",
            "Epoch 41/50\n",
            "50/50 [==============================] - 4s 81ms/step - loss: 5.6742 - DenseAge_loss: 5.4646 - DenseGender_loss: 0.2096 - DenseAge_mean_absolute_error: 5.4646 - DenseGender_binary_accuracy: 0.9141 - val_loss: 8.1703 - val_DenseAge_loss: 7.7787 - val_DenseGender_loss: 0.3916 - val_DenseAge_mean_absolute_error: 7.7787 - val_DenseGender_binary_accuracy: 0.8656\n",
            "Epoch 42/50\n",
            "50/50 [==============================] - 4s 82ms/step - loss: 5.5564 - DenseAge_loss: 5.3627 - DenseGender_loss: 0.1937 - DenseAge_mean_absolute_error: 5.3627 - DenseGender_binary_accuracy: 0.9219 - val_loss: 8.1825 - val_DenseAge_loss: 7.8248 - val_DenseGender_loss: 0.3576 - val_DenseAge_mean_absolute_error: 7.8248 - val_DenseGender_binary_accuracy: 0.8608\n",
            "Epoch 43/50\n",
            "50/50 [==============================] - 4s 84ms/step - loss: 5.6591 - DenseAge_loss: 5.4692 - DenseGender_loss: 0.1899 - DenseAge_mean_absolute_error: 5.4692 - DenseGender_binary_accuracy: 0.9248 - val_loss: 8.2516 - val_DenseAge_loss: 7.7946 - val_DenseGender_loss: 0.4571 - val_DenseAge_mean_absolute_error: 7.7946 - val_DenseGender_binary_accuracy: 0.8504\n",
            "Epoch 44/50\n",
            "50/50 [==============================] - 4s 81ms/step - loss: 5.3444 - DenseAge_loss: 5.1414 - DenseGender_loss: 0.2030 - DenseAge_mean_absolute_error: 5.1414 - DenseGender_binary_accuracy: 0.9192 - val_loss: 8.2632 - val_DenseAge_loss: 7.8577 - val_DenseGender_loss: 0.4055 - val_DenseAge_mean_absolute_error: 7.8577 - val_DenseGender_binary_accuracy: 0.8560\n",
            "Epoch 45/50\n",
            "50/50 [==============================] - 4s 81ms/step - loss: 5.2915 - DenseAge_loss: 5.1241 - DenseGender_loss: 0.1674 - DenseAge_mean_absolute_error: 5.1241 - DenseGender_binary_accuracy: 0.9347 - val_loss: 8.9625 - val_DenseAge_loss: 8.5692 - val_DenseGender_loss: 0.3932 - val_DenseAge_mean_absolute_error: 8.5692 - val_DenseGender_binary_accuracy: 0.8616\n",
            "Epoch 46/50\n",
            "50/50 [==============================] - 4s 83ms/step - loss: 5.2703 - DenseAge_loss: 5.0959 - DenseGender_loss: 0.1744 - DenseAge_mean_absolute_error: 5.0959 - DenseGender_binary_accuracy: 0.9333 - val_loss: 8.3960 - val_DenseAge_loss: 8.0043 - val_DenseGender_loss: 0.3918 - val_DenseAge_mean_absolute_error: 8.0043 - val_DenseGender_binary_accuracy: 0.8648\n",
            "Epoch 47/50\n",
            "50/50 [==============================] - 4s 81ms/step - loss: 5.2775 - DenseAge_loss: 5.1150 - DenseGender_loss: 0.1626 - DenseAge_mean_absolute_error: 5.1150 - DenseGender_binary_accuracy: 0.9352 - val_loss: 8.1401 - val_DenseAge_loss: 7.7195 - val_DenseGender_loss: 0.4206 - val_DenseAge_mean_absolute_error: 7.7195 - val_DenseGender_binary_accuracy: 0.8688\n",
            "Epoch 48/50\n",
            "50/50 [==============================] - 4s 81ms/step - loss: 5.2672 - DenseAge_loss: 5.1073 - DenseGender_loss: 0.1599 - DenseAge_mean_absolute_error: 5.1073 - DenseGender_binary_accuracy: 0.9405 - val_loss: 8.1730 - val_DenseAge_loss: 7.7535 - val_DenseGender_loss: 0.4195 - val_DenseAge_mean_absolute_error: 7.7535 - val_DenseGender_binary_accuracy: 0.8592\n",
            "Epoch 49/50\n",
            "50/50 [==============================] - 4s 83ms/step - loss: 5.0797 - DenseAge_loss: 4.9226 - DenseGender_loss: 0.1571 - DenseAge_mean_absolute_error: 4.9226 - DenseGender_binary_accuracy: 0.9437 - val_loss: 8.3052 - val_DenseAge_loss: 7.8868 - val_DenseGender_loss: 0.4185 - val_DenseAge_mean_absolute_error: 7.8868 - val_DenseGender_binary_accuracy: 0.8536\n",
            "Epoch 50/50\n",
            "50/50 [==============================] - 4s 82ms/step - loss: 5.1634 - DenseAge_loss: 4.9977 - DenseGender_loss: 0.1657 - DenseAge_mean_absolute_error: 4.9977 - DenseGender_binary_accuracy: 0.9373 - val_loss: 8.2475 - val_DenseAge_loss: 7.8267 - val_DenseGender_loss: 0.4208 - val_DenseAge_mean_absolute_error: 7.8267 - val_DenseGender_binary_accuracy: 0.8600\n"
          ]
        }
      ],
      "source": [
        "import wandb\n",
        "from wandb.keras import WandbCallback\n",
        "\n",
        "model.compile(\n",
        "    loss = {\n",
        "        \"DenseAge\": 'mean_absolute_error',\n",
        "        \"DenseGender\": 'binary_crossentropy'\n",
        "    },\n",
        "\n",
        "    metrics = {\n",
        "        \"DenseAge\": 'mean_absolute_error',\n",
        "        \"DenseGender\": 'binary_accuracy'\n",
        "    },\n",
        "\n",
        "    optimizer = tf.keras.optimizers.Adam(learning_rate=LEARNING_RATE)\n",
        ")\n",
        "\n",
        "wandb_config = {\n",
        "    'learning_rate': LEARNING_RATE,\n",
        "    'epochs': EPOCHS,\n",
        "    'batch_size': BATCH_SIZE,\n",
        "    'color_mode': COLOR_MODE,\n",
        "    'image_size': IMAGE_SIZE\n",
        "}\n",
        "\n",
        "wandb.init(project=\"ml2-group-k\", entity=\"ml2-group-k\", config=wandb_config)\n",
        "\n",
        "\n",
        "history = model.fit(\n",
        "    x = image_data,\n",
        "    y = {'DenseAge': label_data_age, 'DenseGender': label_data_gender},\n",
        "    steps_per_epoch = 50,\n",
        "    validation_steps = 50,\n",
        "    validation_split = 0.25,\n",
        "    epochs = EPOCHS,\n",
        "    callbacks=[WandbCallback()])"
      ]
    },
    {
      "cell_type": "code",
      "execution_count": 128,
      "metadata": {
        "colab": {
          "base_uri": "https://localhost:8080/"
        },
        "id": "jQc2MKq3wWkX",
        "outputId": "ce488ea3-5692-4601-f505-49d102bf4c05"
      },
      "outputs": [
        {
          "output_type": "stream",
          "name": "stdout",
          "text": [
            "Final val MAE on age: 7.826693534851074\n",
            "Final val binary accuracy on gender: 0.8600000143051147\n"
          ]
        }
      ],
      "source": [
        "print('Final val MAE on age:', str(history.history['val_DenseAge_mean_absolute_error'][-1]))\n",
        "print('Final val binary accuracy on gender:', str(history.history['val_DenseGender_binary_accuracy'][-1]))"
      ]
    },
    {
      "cell_type": "code",
      "execution_count": 129,
      "metadata": {
        "id": "5AzAP9HDr1y7"
      },
      "outputs": [],
      "source": [
        "# import datetime\n",
        "# import json\n",
        "# from pathlib import Path\n",
        "\n",
        "# final_loss = str(round(history.history['val_loss'][-1], 5))\n",
        "# final_datetime = datetime.datetime.now().strftime('%Y-%m-%d %H:%M:%S')\n",
        "# file_name = f'{final_datetime} - {final_loss}'\n",
        "\n",
        "# Path(f'/outputs/{file_name}').mkdir(parents=True, exist_ok=True)\n",
        "\n",
        "# model.save(f'./outputs/{file_name}/model.h5')\n",
        "\n",
        "# with open(f'./outputs/{file_name}/config.json', 'w', encoding='utf8') as j:\n",
        "#     j.write(json.dumps(model.get_config()))\n",
        "    \n",
        "# with open(f'./outputs/{file_name}/results.json', 'w', encoding='utf8') as j:\n",
        "#     j.write(json.dumps(history.history))"
      ]
    },
    {
      "cell_type": "code",
      "execution_count": 130,
      "metadata": {
        "id": "bOaIMmEs_eE9"
      },
      "outputs": [],
      "source": [
        "# Garbage Collector - use it like gc.collect()\n",
        "import gc\n",
        "\n",
        "# Custom Callback To Include in Callbacks List At Training Time\n",
        "class GarbageCollectorCallback(tf.keras.callbacks.Callback):\n",
        "    def on_epoch_end(self, epoch, logs=None):\n",
        "        gc.collect()"
      ]
    },
    {
      "cell_type": "code",
      "execution_count": 131,
      "metadata": {
        "id": "6zxFDidILi-F"
      },
      "outputs": [],
      "source": [
        "# !zip -r outputs.zip ./outputs"
      ]
    }
  ],
  "metadata": {
    "accelerator": "GPU",
    "colab": {
      "collapsed_sections": [],
      "name": "ML2CW1",
      "provenance": []
    },
    "kernelspec": {
      "display_name": "Python 3",
      "name": "python3"
    },
    "language_info": {
      "name": "python"
    },
    "widgets": {
      "application/vnd.jupyter.widget-state+json": {
        "d040184946394d16a539f9e63695bd4c": {
          "model_module": "@jupyter-widgets/controls",
          "model_name": "VBoxModel",
          "model_module_version": "1.5.0",
          "state": {
            "_view_name": "VBoxView",
            "_dom_classes": [],
            "_model_name": "VBoxModel",
            "_view_module": "@jupyter-widgets/controls",
            "_model_module_version": "1.5.0",
            "_view_count": null,
            "_view_module_version": "1.5.0",
            "box_style": "",
            "layout": "IPY_MODEL_477cbb2640f54edebebc3c9784d7c00e",
            "_model_module": "@jupyter-widgets/controls",
            "children": [
              "IPY_MODEL_7d9f2da3d4a34010872244f618b81c73",
              "IPY_MODEL_1941cc2244e14bf0a39fe6508fc8a96b"
            ]
          }
        },
        "477cbb2640f54edebebc3c9784d7c00e": {
          "model_module": "@jupyter-widgets/base",
          "model_name": "LayoutModel",
          "model_module_version": "1.2.0",
          "state": {
            "_view_name": "LayoutView",
            "grid_template_rows": null,
            "right": null,
            "justify_content": null,
            "_view_module": "@jupyter-widgets/base",
            "overflow": null,
            "_model_module_version": "1.2.0",
            "_view_count": null,
            "flex_flow": null,
            "width": null,
            "min_width": null,
            "border": null,
            "align_items": null,
            "bottom": null,
            "_model_module": "@jupyter-widgets/base",
            "top": null,
            "grid_column": null,
            "overflow_y": null,
            "overflow_x": null,
            "grid_auto_flow": null,
            "grid_area": null,
            "grid_template_columns": null,
            "flex": null,
            "_model_name": "LayoutModel",
            "justify_items": null,
            "grid_row": null,
            "max_height": null,
            "align_content": null,
            "visibility": null,
            "align_self": null,
            "height": null,
            "min_height": null,
            "padding": null,
            "grid_auto_rows": null,
            "grid_gap": null,
            "max_width": null,
            "order": null,
            "_view_module_version": "1.2.0",
            "grid_template_areas": null,
            "object_position": null,
            "object_fit": null,
            "grid_auto_columns": null,
            "margin": null,
            "display": null,
            "left": null
          }
        },
        "7d9f2da3d4a34010872244f618b81c73": {
          "model_module": "@jupyter-widgets/controls",
          "model_name": "LabelModel",
          "model_module_version": "1.5.0",
          "state": {
            "_view_name": "LabelView",
            "style": "IPY_MODEL_0007d17ef49148c7824438b7293bee24",
            "_dom_classes": [],
            "description": "",
            "_model_name": "LabelModel",
            "placeholder": "​",
            "_view_module": "@jupyter-widgets/controls",
            "_model_module_version": "1.5.0",
            "value": " 92.26MB of 92.26MB uploaded (0.00MB deduped)\r",
            "_view_count": null,
            "_view_module_version": "1.5.0",
            "description_tooltip": null,
            "_model_module": "@jupyter-widgets/controls",
            "layout": "IPY_MODEL_60a9e893945640e18e471bb32059a535"
          }
        },
        "1941cc2244e14bf0a39fe6508fc8a96b": {
          "model_module": "@jupyter-widgets/controls",
          "model_name": "FloatProgressModel",
          "model_module_version": "1.5.0",
          "state": {
            "_view_name": "ProgressView",
            "style": "IPY_MODEL_56da735467c34d9288967821bbd2cbd0",
            "_dom_classes": [],
            "description": "",
            "_model_name": "FloatProgressModel",
            "bar_style": "",
            "max": 1,
            "_view_module": "@jupyter-widgets/controls",
            "_model_module_version": "1.5.0",
            "value": 1,
            "_view_count": null,
            "_view_module_version": "1.5.0",
            "orientation": "horizontal",
            "min": 0,
            "description_tooltip": null,
            "_model_module": "@jupyter-widgets/controls",
            "layout": "IPY_MODEL_25e0d5abc0d04d99af4e407fe3e26bf8"
          }
        },
        "0007d17ef49148c7824438b7293bee24": {
          "model_module": "@jupyter-widgets/controls",
          "model_name": "DescriptionStyleModel",
          "model_module_version": "1.5.0",
          "state": {
            "_view_name": "StyleView",
            "_model_name": "DescriptionStyleModel",
            "description_width": "",
            "_view_module": "@jupyter-widgets/base",
            "_model_module_version": "1.5.0",
            "_view_count": null,
            "_view_module_version": "1.2.0",
            "_model_module": "@jupyter-widgets/controls"
          }
        },
        "60a9e893945640e18e471bb32059a535": {
          "model_module": "@jupyter-widgets/base",
          "model_name": "LayoutModel",
          "model_module_version": "1.2.0",
          "state": {
            "_view_name": "LayoutView",
            "grid_template_rows": null,
            "right": null,
            "justify_content": null,
            "_view_module": "@jupyter-widgets/base",
            "overflow": null,
            "_model_module_version": "1.2.0",
            "_view_count": null,
            "flex_flow": null,
            "width": null,
            "min_width": null,
            "border": null,
            "align_items": null,
            "bottom": null,
            "_model_module": "@jupyter-widgets/base",
            "top": null,
            "grid_column": null,
            "overflow_y": null,
            "overflow_x": null,
            "grid_auto_flow": null,
            "grid_area": null,
            "grid_template_columns": null,
            "flex": null,
            "_model_name": "LayoutModel",
            "justify_items": null,
            "grid_row": null,
            "max_height": null,
            "align_content": null,
            "visibility": null,
            "align_self": null,
            "height": null,
            "min_height": null,
            "padding": null,
            "grid_auto_rows": null,
            "grid_gap": null,
            "max_width": null,
            "order": null,
            "_view_module_version": "1.2.0",
            "grid_template_areas": null,
            "object_position": null,
            "object_fit": null,
            "grid_auto_columns": null,
            "margin": null,
            "display": null,
            "left": null
          }
        },
        "56da735467c34d9288967821bbd2cbd0": {
          "model_module": "@jupyter-widgets/controls",
          "model_name": "ProgressStyleModel",
          "model_module_version": "1.5.0",
          "state": {
            "_view_name": "StyleView",
            "_model_name": "ProgressStyleModel",
            "description_width": "",
            "_view_module": "@jupyter-widgets/base",
            "_model_module_version": "1.5.0",
            "_view_count": null,
            "_view_module_version": "1.2.0",
            "bar_color": null,
            "_model_module": "@jupyter-widgets/controls"
          }
        },
        "25e0d5abc0d04d99af4e407fe3e26bf8": {
          "model_module": "@jupyter-widgets/base",
          "model_name": "LayoutModel",
          "model_module_version": "1.2.0",
          "state": {
            "_view_name": "LayoutView",
            "grid_template_rows": null,
            "right": null,
            "justify_content": null,
            "_view_module": "@jupyter-widgets/base",
            "overflow": null,
            "_model_module_version": "1.2.0",
            "_view_count": null,
            "flex_flow": null,
            "width": null,
            "min_width": null,
            "border": null,
            "align_items": null,
            "bottom": null,
            "_model_module": "@jupyter-widgets/base",
            "top": null,
            "grid_column": null,
            "overflow_y": null,
            "overflow_x": null,
            "grid_auto_flow": null,
            "grid_area": null,
            "grid_template_columns": null,
            "flex": null,
            "_model_name": "LayoutModel",
            "justify_items": null,
            "grid_row": null,
            "max_height": null,
            "align_content": null,
            "visibility": null,
            "align_self": null,
            "height": null,
            "min_height": null,
            "padding": null,
            "grid_auto_rows": null,
            "grid_gap": null,
            "max_width": null,
            "order": null,
            "_view_module_version": "1.2.0",
            "grid_template_areas": null,
            "object_position": null,
            "object_fit": null,
            "grid_auto_columns": null,
            "margin": null,
            "display": null,
            "left": null
          }
        }
      }
    }
  },
  "nbformat": 4,
  "nbformat_minor": 0
}