{
  "nbformat": 4,
  "nbformat_minor": 0,
  "metadata": {
    "colab": {
      "name": "ML2CW1_temp",
      "provenance": [],
      "collapsed_sections": []
    },
    "kernelspec": {
      "name": "python3",
      "display_name": "Python 3"
    },
    "language_info": {
      "name": "python"
    },
    "accelerator": "GPU"
  },
  "cells": [
    {
      "cell_type": "code",
      "source": [
        "# Take x samples, display to output. Output is a 2-column subplot with the standard input and normalised variant of a random image sample. \n",
        "\n",
        "import plotly.express as px\n",
        "import plotly.graph_objects as go\n",
        "import numpy as np\n",
        "from PIL import Image\n",
        "import plotly.subplots as subplots\n",
        "\n",
        "def norm_image(arr):\n",
        "    img_norm = np.array(arr)\n",
        "    img_norm = (img_norm - np.min(img_norm))/np.ptp(img_norm) # Normalisation of z-values (RGB values; 3rd axis) to between 0 and 1\n",
        "    return img_norm\n",
        "\n",
        "\n",
        "fig = subplots.make_subplots(rows=1, cols=2, subplot_titles=[\"Unnormalised (0 to 255)\", \"Normalised (0 to 1)\"], horizontal_spacing=0.1)\n",
        "fig.update_layout(title_text=\"Side-by-Side sample image comparison, unnormalised and normalised\")\n",
        "\n",
        "\n",
        "for sample in training_img_dataset.take(1):\n",
        "  # sample = np.array(sample)\n",
        "  sample = sample[0] # Take the first item in the sample. This is because sample is of size (BATCH_SIZE, WIDTH, HEIGHT, RGB)\n",
        "  fig.append_trace(go.Image(z=sample), 1, 1)\n",
        "  fig.append_trace(go.Image(z=norm_image(sample), zmin=[0, 0, 0, 0], zmax=[1, 1, 1, 1]), 1, 2)\n",
        "  break\n",
        "\n",
        "\n",
        "fig.show()"
      ],
      "metadata": {
        "colab": {
          "base_uri": "https://localhost:8080/",
          "height": 235
        },
        "id": "tSn0oQQ_8dk5",
        "outputId": "c015cbf8-1f7b-49cb-ea23-cd97b991847d"
      },
      "execution_count": null,
      "outputs": [
        {
          "output_type": "error",
          "ename": "NameError",
          "evalue": "ignored",
          "traceback": [
            "\u001b[0;31m---------------------------------------------------------------------------\u001b[0m",
            "\u001b[0;31mNameError\u001b[0m                                 Traceback (most recent call last)",
            "\u001b[0;32m<ipython-input-3-95e608986549>\u001b[0m in \u001b[0;36m<module>\u001b[0;34m()\u001b[0m\n\u001b[1;32m     17\u001b[0m \u001b[0;34m\u001b[0m\u001b[0m\n\u001b[1;32m     18\u001b[0m \u001b[0;34m\u001b[0m\u001b[0m\n\u001b[0;32m---> 19\u001b[0;31m \u001b[0;32mfor\u001b[0m \u001b[0msample\u001b[0m \u001b[0;32min\u001b[0m \u001b[0mtraining_img_dataset\u001b[0m\u001b[0;34m.\u001b[0m\u001b[0mtake\u001b[0m\u001b[0;34m(\u001b[0m\u001b[0;36m1\u001b[0m\u001b[0;34m)\u001b[0m\u001b[0;34m:\u001b[0m\u001b[0;34m\u001b[0m\u001b[0;34m\u001b[0m\u001b[0m\n\u001b[0m\u001b[1;32m     20\u001b[0m   \u001b[0;31m# sample = np.array(sample)\u001b[0m\u001b[0;34m\u001b[0m\u001b[0;34m\u001b[0m\u001b[0;34m\u001b[0m\u001b[0m\n\u001b[1;32m     21\u001b[0m   \u001b[0msample\u001b[0m \u001b[0;34m=\u001b[0m \u001b[0msample\u001b[0m\u001b[0;34m[\u001b[0m\u001b[0;36m0\u001b[0m\u001b[0;34m]\u001b[0m \u001b[0;31m# Take the first item in the sample. This is because sample is of size (BATCH_SIZE, WIDTH, HEIGHT, RGB)\u001b[0m\u001b[0;34m\u001b[0m\u001b[0;34m\u001b[0m\u001b[0m\n",
            "\u001b[0;31mNameError\u001b[0m: name 'training_img_dataset' is not defined"
          ]
        }
      ]
    },
    {
      "cell_type": "code",
      "source": [
        "# REMOVE: printing out all of the image files TF has loaded. As shown by the counter, k, this includes *all* of the input samples. \n",
        "\n",
        "all_samples = training_img_dataset.list_files(file_pattern='./data/**/**.jpg', shuffle=False)\n",
        "k = 0\n",
        "for x in all_samples:\n",
        "  print(x)\n",
        "  k += 1\n",
        "\n",
        "print(f'Total samples: {k}')"
      ],
      "metadata": {
        "id": "67R8nyN4-9jG"
      },
      "execution_count": null,
      "outputs": []
    },
    {
      "cell_type": "code",
      "source": [
        "import pandas as pd\n",
        "import math\n",
        "\n",
        "labels = pd.read_csv(f'{DATA_DIRECTORY}/metadata_lookup.csv')\n",
        "\n",
        "# print(labels.head())\n",
        "\n",
        "\n",
        "all_samples = labels.sample(frac=1, random_state=42) # TODO: add a constant for the random states in pandas, numpy and keras/tensorflow shuffle variables\n",
        "\n",
        "train_split, test_split, val_split = 0.7, 0.2, 0.1 # 4000, 1000, 500\n",
        "\n",
        "try:\n",
        "  assert math.fsum([train_split, test_split, val_split]) == 1\n",
        "except AssertionError:\n",
        "  print(\"The train, test and validation split ratios must sum to exactly 1.0!\")\n",
        "  print(f\"Actual sum was {sum([train_split, test_split, val_split])}; train, test, val = {train_split}, {test_split}, {val_split}\")\n",
        "  raise\n",
        "\n",
        "slices = [int(train_split * len(all_samples)), int((train_split + test_split) * len(all_samples))]\n",
        "\n",
        "train_ds = all_samples.iloc[:slices[0]]\n",
        "test_ds = all_samples.iloc[slices[0]:slices[1]]\n",
        "val_ds = all_samples.iloc[slices[1]:]\n",
        "\n",
        "# print(train_ds)\n",
        "# print(test_ds)\n",
        "# print(val_ds)\n",
        "\n",
        "print(f'Split dataset into sample sizes of: train: {len(train_ds)}, test: {len(test_ds)}, val: {len(val_ds)}')"
      ],
      "metadata": {
        "id": "dvtB0TwJFMc4"
      },
      "execution_count": null,
      "outputs": []
    },
    {
      "cell_type": "code",
      "execution_count": null,
      "metadata": {
        "colab": {
          "base_uri": "https://localhost:8080/"
        },
        "id": "jtXkhJnc628V",
        "outputId": "1fa5c9b7-229c-4c36-d5dc-ac82d75c057f"
      },
      "outputs": [
        {
          "output_type": "stream",
          "name": "stdout",
          "text": [
            "Downloading...\n",
            "From: https://drive.google.com/uc?id=13MRa51YRElF8n88Kh7RMglJCqSrTmrcg\n",
            "To: /content/data.zip\n",
            "100% 15.1M/15.1M [00:00<00:00, 77.2MB/s]\n"
          ]
        }
      ],
      "source": [
        "# Download and extract the image dataset\n",
        "\n",
        "!rm -r data\n",
        "!gdown --id 13MRa51YRElF8n88Kh7RMglJCqSrTmrcg\n",
        "\n",
        "import zipfile\n",
        "with zipfile.ZipFile(f'./data.zip', 'r') as zip:\n",
        "    zip.extractall('.')\n",
        "!rm data.zip"
      ]
    },
    {
      "cell_type": "code",
      "source": [
        "# Establishing constants\n",
        "\n",
        "DATA_DIRECTORY = './data'\n",
        "BATCH_SIZE=32\n",
        "IMAGE_SIZE=(224, 224) # Width x height\n",
        "INPUT_SHAPE=(224, 224, 3) # Width x height x colour profile (RGB; 3 channels)"
      ],
      "metadata": {
        "id": "cSNIQ_eW7b2S"
      },
      "execution_count": 1,
      "outputs": []
    },
    {
      "cell_type": "code",
      "source": [
        "import pandas as pd\n",
        "import numpy as np\n",
        "import tensorflow as tf\n",
        "\n",
        "\n",
        "data_df = pd.read_csv(f'{DATA_DIRECTORY}/metadata_lookup.csv')\n",
        "data_generator = tf.keras.preprocessing.image.ImageDataGenerator(\n",
        "    rescale=1/255.0, \n",
        "    horizontal_flip=True, \n",
        "    # rotation_range=90\n",
        "    )\n",
        "\n",
        "data_generator_from_df = data_generator.flow_from_dataframe(\n",
        "    dataframe=data_df, \n",
        "    directory=DATA_DIRECTORY, \n",
        "    x_col='file_name', \n",
        "    y_col=['age', 'gender'], \n",
        "    # has_ext=True, #Deprecated\n",
        "    batch_size=BATCH_SIZE, \n",
        "    shuffle=True,\n",
        "    target_size=IMAGE_SIZE, \n",
        "    color_mode='rgb', \n",
        "    class_mode='raw')"
      ],
      "metadata": {
        "colab": {
          "base_uri": "https://localhost:8080/"
        },
        "id": "qZpoA5MP7cx_",
        "outputId": "d2efd838-e6fa-4bf4-e160-3fbda26bf6dc"
      },
      "execution_count": 2,
      "outputs": [
        {
          "output_type": "stream",
          "name": "stdout",
          "text": [
            "Found 5000 validated image filenames.\n"
          ]
        }
      ]
    },
    {
      "cell_type": "code",
      "source": [
        "import numpy as np\n",
        "\n",
        "image_data, label_data = [], []\n",
        "batch_index = 0\n",
        "\n",
        "while batch_index <= data_generator_from_df.batch_index:\n",
        "    data = data_generator_from_df.next()\n",
        "    image_data.extend(data[0])\n",
        "    label_data.extend(data[1])\n",
        "    batch_index = batch_index + 1\n",
        "image_data, label_data = np.array(image_data), np.array(label_data)"
      ],
      "metadata": {
        "id": "839_ldCb9V9O"
      },
      "execution_count": 3,
      "outputs": []
    },
    {
      "cell_type": "code",
      "source": [
        "print(image_data.shape)\n",
        "print(label_data.shape)\n",
        "\n",
        "label_data_age, label_data_gender = label_data[:, 0], label_data[:, 1]"
      ],
      "metadata": {
        "colab": {
          "base_uri": "https://localhost:8080/"
        },
        "id": "_56udrL69tLf",
        "outputId": "e0b0c458-d1bc-46a0-d815-6d7d2c8359fd"
      },
      "execution_count": 4,
      "outputs": [
        {
          "output_type": "stream",
          "name": "stdout",
          "text": [
            "(5000, 224, 224, 3)\n",
            "(5000, 2)\n"
          ]
        }
      ]
    },
    {
      "cell_type": "code",
      "source": [
        "#Check GPU exists and is in use\n",
        "\n",
        "from tensorflow.python.client import device_lib\n",
        "print(device_lib.list_local_devices())"
      ],
      "metadata": {
        "colab": {
          "base_uri": "https://localhost:8080/"
        },
        "id": "R2kavKUIjRkB",
        "outputId": "8413ded1-7765-4261-fed7-b5cfce09cb0a"
      },
      "execution_count": 5,
      "outputs": [
        {
          "output_type": "stream",
          "name": "stdout",
          "text": [
            "[name: \"/device:CPU:0\"\n",
            "device_type: \"CPU\"\n",
            "memory_limit: 268435456\n",
            "locality {\n",
            "}\n",
            "incarnation: 7449601650205603546\n",
            "xla_global_id: -1\n",
            ", name: \"/device:GPU:0\"\n",
            "device_type: \"GPU\"\n",
            "memory_limit: 11320098816\n",
            "locality {\n",
            "  bus_id: 1\n",
            "  links {\n",
            "  }\n",
            "}\n",
            "incarnation: 7591611386254698310\n",
            "physical_device_desc: \"device: 0, name: Tesla K80, pci bus id: 0000:00:04.0, compute capability: 3.7\"\n",
            "xla_global_id: 416903419\n",
            "]\n"
          ]
        }
      ]
    },
    {
      "cell_type": "code",
      "source": [
        "# Define the model using the Functional API\n",
        "\n",
        "from tensorflow.keras import layers\n",
        "import keras\n",
        "\n",
        "# tf.debugging.set_log_device_placement(True) # Uncomment to verify Keras is running the model on the GPU\n",
        "\n",
        "input = keras.Input(shape=INPUT_SHAPE)\n",
        "x = layers.Conv2D(32, kernel_size=(3, 3), activation=\"relu\")(input)\n",
        "x = layers.MaxPooling2D(pool_size=(2, 2))(x)\n",
        "x = layers.Conv2D(32, kernel_size=(3, 3), activation=\"relu\")(x)\n",
        "x = layers.MaxPooling2D(pool_size=(2, 2))(x)\n",
        "x = layers.Conv2D(64, kernel_size=(3, 3), activation=\"relu\")(x)\n",
        "x = layers.MaxPooling2D(pool_size=(2, 2))(x)\n",
        "x = layers.Dropout(0.5)(x)\n",
        "\n",
        "x = layers.Flatten()(x)\n",
        "x = layers.Dense(512, activation=\"relu\")(x)\n",
        "x = layers.Dense(512, activation=\"relu\")(x)\n",
        "x = layers.Dropout(0.5)(x)\n",
        "\n",
        "out_age = layers.Dense(1, activation=\"relu\", name=\"DenseAge\")(x) # Using ReLU activation to skip negative values, as the age will never be negative\n",
        "out_gender = layers.Dense(1, activation=\"sigmoid\", name=\"DenseGender\")(x) # Using sigmoid to limit 0 <= x <= 1\n",
        "model = keras.models.Model(inputs = input, outputs = [out_age, out_gender])\n",
        "\n",
        "\n",
        "# x = layers.Conv2D(64, kernel_size=(3, 3))(input)\n",
        "# x = layers.Conv2D(64, kernel_size=(3, 3))(x)\n",
        "\n",
        "# x = layers.MaxPooling2D(pool_size=(2, 2))(x)\n",
        "# x = layers.Conv2D(128, kernel_size=(3, 3))(x)\n",
        "# x = layers.Conv2D(128, kernel_size=(3, 3))(x)\n",
        "\n",
        "# x = layers.MaxPooling2D(pool_size=(2, 2))(x)\n",
        "# x = layers.Conv2D(256, kernel_size=(3, 3))(x)\n",
        "# x = layers.Conv2D(256, kernel_size=(3, 3))(x)\n",
        "# x = layers.Conv2D(256, kernel_size=(3, 3))(x)\n",
        "\n",
        "# x = layers.MaxPooling2D(pool_size=(2, 2))(x)\n",
        "# x = layers.Conv2D(512, kernel_size=(3, 3))(x)\n",
        "# x = layers.Conv2D(512, kernel_size=(3, 3))(x)\n",
        "# x = layers.Conv2D(512, kernel_size=(3, 3))(x)\n",
        "\n",
        "# x = layers.MaxPooling2D(pool_size=(2, 2))(x)\n",
        "# x = layers.Conv2D(512, kernel_size=(3, 3))(x)\n",
        "# x = layers.Conv2D(512, kernel_size=(3, 3))(x)\n",
        "# x = layers.Conv2D(512, kernel_size=(3, 3))(x)\n",
        "\n",
        "# x = layers.MaxPooling2D(pool_size=(2, 2))(x)\n",
        "\n",
        "# x = layers.Flatten()(x)\n",
        "# x = layers.Dense(4096, activation=\"relu\")(x)\n",
        "# x = layers.Dense(4096, activation=\"relu\")(x)\n",
        "# x = layers.Dropout(0.5)(x)\n",
        "\n",
        "\n",
        "# out_age = layers.Dense(1, activation=\"relu\", name=\"DenseAge\")(x) # Using ReLU activation to skip negative values, as the age will never be negative\n",
        "# out_gender = layers.Dense(1, activation=\"sigmoid\", name=\"DenseGender\")(x) # Using sigmoid to limit 0 <= x <= 1\n",
        "# model = keras.models.Model(inputs = input, outputs = [out_age, out_gender])\n",
        "\n",
        "\n",
        "\n",
        "model.summary()\n",
        "tf.keras.utils.plot_model(\n",
        "    model\n",
        ")"
      ],
      "metadata": {
        "colab": {
          "base_uri": "https://localhost:8080/",
          "height": 1000
        },
        "id": "O4uM3g3xklSI",
        "outputId": "700d9392-fc65-4eb4-dfac-759be93dc159"
      },
      "execution_count": 18,
      "outputs": [
        {
          "output_type": "stream",
          "name": "stdout",
          "text": [
            "Model: \"model_2\"\n",
            "__________________________________________________________________________________________________\n",
            " Layer (type)                   Output Shape         Param #     Connected to                     \n",
            "==================================================================================================\n",
            " input_3 (InputLayer)           [(None, 224, 224, 3  0           []                               \n",
            "                                )]                                                                \n",
            "                                                                                                  \n",
            " conv2d_4 (Conv2D)              (None, 222, 222, 32  896         ['input_3[0][0]']                \n",
            "                                )                                                                 \n",
            "                                                                                                  \n",
            " max_pooling2d_4 (MaxPooling2D)  (None, 111, 111, 32  0          ['conv2d_4[0][0]']               \n",
            "                                )                                                                 \n",
            "                                                                                                  \n",
            " conv2d_5 (Conv2D)              (None, 109, 109, 32  9248        ['max_pooling2d_4[0][0]']        \n",
            "                                )                                                                 \n",
            "                                                                                                  \n",
            " max_pooling2d_5 (MaxPooling2D)  (None, 54, 54, 32)  0           ['conv2d_5[0][0]']               \n",
            "                                                                                                  \n",
            " conv2d_6 (Conv2D)              (None, 52, 52, 64)   18496       ['max_pooling2d_5[0][0]']        \n",
            "                                                                                                  \n",
            " max_pooling2d_6 (MaxPooling2D)  (None, 26, 26, 64)  0           ['conv2d_6[0][0]']               \n",
            "                                                                                                  \n",
            " dropout_4 (Dropout)            (None, 26, 26, 64)   0           ['max_pooling2d_6[0][0]']        \n",
            "                                                                                                  \n",
            " flatten_2 (Flatten)            (None, 43264)        0           ['dropout_4[0][0]']              \n",
            "                                                                                                  \n",
            " dense_1 (Dense)                (None, 512)          22151680    ['flatten_2[0][0]']              \n",
            "                                                                                                  \n",
            " dense_2 (Dense)                (None, 512)          262656      ['dense_1[0][0]']                \n",
            "                                                                                                  \n",
            " dropout_5 (Dropout)            (None, 512)          0           ['dense_2[0][0]']                \n",
            "                                                                                                  \n",
            " DenseAge (Dense)               (None, 1)            513         ['dropout_5[0][0]']              \n",
            "                                                                                                  \n",
            " DenseGender (Dense)            (None, 1)            513         ['dropout_5[0][0]']              \n",
            "                                                                                                  \n",
            "==================================================================================================\n",
            "Total params: 22,444,002\n",
            "Trainable params: 22,444,002\n",
            "Non-trainable params: 0\n",
            "__________________________________________________________________________________________________\n"
          ]
        },
        {
          "output_type": "execute_result",
          "data": {
            "image/png": "[encoded data removed]",
            "text/plain": [
              "<IPython.core.display.Image object>"
            ]
          },
          "metadata": {},
          "execution_count": 18
        }
      ]
    },
    {
      "cell_type": "code",
      "source": [
        "model.compile(\n",
        "    loss = {\n",
        "        \"DenseAge\": 'mean_absolute_error',\n",
        "        \"DenseGender\": 'binary_crossentropy'\n",
        "    },\n",
        "\n",
        "    metrics = {\n",
        "        \"DenseAge\": 'mean_absolute_error',\n",
        "        \"DenseGender\": 'binary_accuracy'\n",
        "    },\n",
        "\n",
        "    optimizer = tf.keras.optimizers.Adam(learning_rate=0.001)\n",
        ")\n",
        "\n",
        "history = model.fit(\n",
        "    x = image_data,\n",
        "    y = {'DenseAge': label_data_age, 'DenseGender': label_data_gender},\n",
        "    steps_per_epoch = 50,\n",
        "    validation_steps = 50,\n",
        "    validation_split = 0.25,\n",
        "    epochs = 30)"
      ],
      "metadata": {
        "id": "mQzC9Ia3lvB-"
      },
      "execution_count": null,
      "outputs": []
    },
    {
      "cell_type": "code",
      "source": [
        "print('Final val MAE on age:', str(history.history['val_DenseAge_mean_absolute_error'][-1]))\n",
        "print('Final val binary accuracy on gender:', str(history.history['val_DenseGender_binary_accuracy'][-1]))"
      ],
      "metadata": {
        "id": "jQc2MKq3wWkX"
      },
      "execution_count": null,
      "outputs": []
    },
    {
      "cell_type": "code",
      "source": [
        "import datetime\n",
        "import json\n",
        "from pathlib import Path\n",
        "\n",
        "final_loss = str(round(history.history['val_loss'][-1], 5))\n",
        "final_datetime = datetime.datetime.now().strftime('%Y-%m-%d %H:%M:%S')\n",
        "file_name = f'{final_datetime} - {final_loss}'\n",
        "\n",
        "Path(f'/outputs/{file_name}').mkdir(parents=True, exist_ok=True)\n",
        "\n",
        "model.save(f'./outputs/{file_name}/model.h5')\n",
        "\n",
        "with open(f'./outputs/{file_name}/config.json', 'w', encoding='utf8') as j:\n",
        "    j.write(json.dumps(model.get_config()))\n",
        "    \n",
        "with open(f'./outputs/{file_name}/results.json', 'w', encoding='utf8') as j:\n",
        "    j.write(json.dumps(history.history))"
      ],
      "metadata": {
        "id": "5AzAP9HDr1y7"
      },
      "execution_count": null,
      "outputs": []
    },
    {
      "cell_type": "code",
      "source": [
        "# Garbage Collector - use it like gc.collect()\n",
        "import gc\n",
        "\n",
        "# Custom Callback To Include in Callbacks List At Training Time\n",
        "class GarbageCollectorCallback(tf.keras.callbacks.Callback):\n",
        "    def on_epoch_end(self, epoch, logs=None):\n",
        "        gc.collect()"
      ],
      "metadata": {
        "id": "bOaIMmEs_eE9"
      },
      "execution_count": null,
      "outputs": []
    },
    {
      "cell_type": "code",
      "source": [
        "# !zip -r outputs.zip ./outputs"
      ],
      "metadata": {
        "id": "6zxFDidILi-F"
      },
      "execution_count": null,
      "outputs": []
    }
  ]
}